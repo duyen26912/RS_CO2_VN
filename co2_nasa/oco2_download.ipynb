{
 "cells": [
  {
   "cell_type": "markdown",
   "id": "9f5267e1",
   "metadata": {},
   "source": [
    "## OCO-2 XCO2 Data Download"
   ]
  },
  {
   "cell_type": "code",
   "execution_count": null,
   "id": "6a1854b8",
   "metadata": {},
   "outputs": [],
   "source": [
    "%reload_ext autoreload\n",
    "%autoreload 2"
   ]
  },
  {
   "cell_type": "code",
   "execution_count": null,
   "id": "8d8384eb",
   "metadata": {},
   "outputs": [],
   "source": [
    "# import các thư viện cần thiết\n",
    "import os # thao tác đường dẫn file thư mục\n",
    "import pandas as pd # đọc danh sách url từ file .txt\n",
    "from dotenv import load_dotenv # đọc biến môi trường từ file .env\n",
    "from urllib.parse import urlparse # phân tích cú pháp URL"
   ]
  },
  {
   "cell_type": "code",
   "execution_count": null,
   "id": "aca145a1",
   "metadata": {},
   "outputs": [],
   "source": [
    "# load biến môi trường\n",
    "env_path = '.env'\n",
    "load_dotenv()"
   ]
  },
  {
   "cell_type": "code",
   "execution_count": null,
   "id": "3ba46ddb",
   "metadata": {},
   "outputs": [],
   "source": [
    "# kiểm tra xem biến môi trường đã được nạp thành công chưa\n",
    "load_dotenv()\n",
    "\n",
    "USERNAME = os.getenv(\"APP_USERNAME\")\n",
    "PASSWORD = os.getenv(\"APP_PASSWORD\")\n",
    "\n",
    "print(f\"Username: {USERNAME}, Password: {PASSWORD}\")"
   ]
  },
  {
   "cell_type": "code",
   "execution_count": null,
   "id": "606ebc72",
   "metadata": {},
   "outputs": [],
   "source": [
    "# kiểm tra xem biến môi trường đã được nạp thành công chưa\n",
    "\n",
    "! wget https://urs.earthdata.nasa.gov/"
   ]
  },
  {
   "cell_type": "code",
   "execution_count": null,
   "id": "9b926892",
   "metadata": {},
   "outputs": [],
   "source": [
    "# Thiết lập đường dẫn đến file dữ liệu\n",
    "folder_path = 'data'\n",
    "data_file = os.path.join(\n",
    "    folder_path, 'subset_OCO2_L2_Lite_FP_11.2r_20250623_133010_.txt')\n",
    "to_folder = os.path.join(folder_path, 'oco2_nc4_2021')\n",
    "is_force_download = False"
   ]
  },
  {
   "cell_type": "code",
   "execution_count": null,
   "id": "e8a452f0",
   "metadata": {},
   "outputs": [],
   "source": [
    "# Đọc lại username, password từ .env\n",
    "username = os.getenv('APP_USERNAME')\n",
    "password = os.getenv('APP_PASSWORD')"
   ]
  },
  {
   "cell_type": "code",
   "execution_count": null,
   "id": "8f7b6f26",
   "metadata": {},
   "outputs": [],
   "source": [
    "# Xem có bao nhiêu đường link\n",
    "df = pd.read_csv(data_file, sep=\" \",header=None)\n",
    "print('found', len(df), 'links')"
   ]
  },
  {
   "cell_type": "code",
   "execution_count": null,
   "id": "2efd37b2",
   "metadata": {},
   "outputs": [],
   "source": [
    "pd.set_option('display.max_colwidth', 200)\n",
    "df.head(10)"
   ]
  },
  {
   "cell_type": "code",
   "execution_count": null,
   "id": "a907b107",
   "metadata": {},
   "outputs": [],
   "source": [
    "# Hàm tải dữ liệu từ URL\n",
    "# function to download files from urls in a text file\n",
    "def download_files(data_file, username, password, to_folder):\n",
    "\n",
    "    with open(data_file, \"r\") as data_file:\n",
    "        for line in data_file:\n",
    "            url = line.strip()\n",
    "            filename = os.path.basename(urlparse(url).path) # method only works if URL is to a file (cf. a REST endpoint)\n",
    "            if is_force_download or not os.path.isfile(to_folder+'/'+filename):\n",
    "                print (\"Downloading file: \" + url)\n",
    "                ! wget -P $to_folder --user=$username --password=$password $url\n",
    "            else:\n",
    "                print (\"File is already downloaded: \" + filename)\n"
   ]
  },
  {
   "cell_type": "code",
   "execution_count": null,
   "id": "2c26d9d4",
   "metadata": {},
   "outputs": [],
   "source": [
    "# Gọi hàm để tải dữ liệu\n",
    "download_files(data_file, username, password, to_folder)\n",
    "# Kiểm tra xem các file đã được tải xuống chưa\n",
    "print(\"Files in the folder:\")\n",
    "! ls -l $to_folder"
   ]
  }
 ],
 "metadata": {
  "kernelspec": {
   "display_name": "base",
   "language": "python",
   "name": "python3"
  },
  "language_info": {
   "codemirror_mode": {
    "name": "ipython",
    "version": 3
   },
   "file_extension": ".py",
   "mimetype": "text/x-python",
   "name": "python",
   "nbconvert_exporter": "python",
   "pygments_lexer": "ipython3",
   "version": "3.12.3"
  }
 },
 "nbformat": 4,
 "nbformat_minor": 5
}
