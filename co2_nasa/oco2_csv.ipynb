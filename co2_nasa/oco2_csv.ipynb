{
 "cells": [
  {
   "cell_type": "markdown",
   "id": "ab775592",
   "metadata": {},
   "source": [
    "# Chuyển oco2 nc4 thành csv\n"
   ]
  },
  {
   "cell_type": "code",
   "execution_count": null,
   "id": "cde4bdd8",
   "metadata": {},
   "outputs": [],
   "source": [
    "# thư viện cần thiết\n",
    "import xarray as xr\n",
    "import pandas as pd\n",
    "import glob\n",
    "import os\n",
    "import geopandas as gpd\n",
    "from shapely.geometry import Point"
   ]
  },
  {
   "cell_type": "markdown",
   "id": "e2010924",
   "metadata": {},
   "source": [
    "## Xác định file .nc4 và đọc dữ liệu bằng xarray\n"
   ]
  },
  {
   "cell_type": "code",
   "execution_count": null,
   "id": "d52981cf",
   "metadata": {},
   "outputs": [],
   "source": [
    "# Xác định file .nc4 và đọc dữ liệu bằng xarray\n",
    "# Đường dẫn tới file .nc4\n",
    "file_path = r\"E:\\DownloadData\\co2_nasa\\data\\oco2_nc4_2020\\oco2_LtCO2_200101_B11210Ar_240913160328s.nc4\"  # <-- sửa lại tên file thật\n",
    "\n",
    "# Mở file .nc4\n",
    "ds = xr.open_dataset(file_path)\n",
    "\n",
    "# In thông tin toàn bộ dataset\n",
    "print(ds)\n",
    "\n",
    "# In danh sách các biến\n",
    "print(\"\\n🔹 Danh sách biến:\")\n",
    "print(list(ds.data_vars))\n",
    "\n",
    "# In các chiều dữ liệu\n",
    "print(\"\\n🔹 Các chiều:\")\n",
    "print(list(ds.dims))\n",
    "\n",
    "# In thuộc tính toàn cục\n",
    "print(\"\\n🔹 Global attributes:\")\n",
    "print(ds.attrs)\n",
    "\n",
    "# Đóng file sau khi đọc\n",
    "ds.close()\n"
   ]
  },
  {
   "cell_type": "markdown",
   "id": "0392572c",
   "metadata": {},
   "source": [
    "## Gộp dữ liệu nc4 vào file csv"
   ]
  },
  {
   "cell_type": "code",
   "execution_count": null,
   "id": "c47c2170",
   "metadata": {},
   "outputs": [],
   "source": [
    "# Đường dẫn đến thư mục chứa các file .nc4\n",
    "folder_path = \"E:\\\\DownloadData\\\\co2_nasa\\\\data\\\\oco2_nc4_2020\\\\*.nc4\"\n",
    "\n",
    "# Lấy danh sách tất cả các file .nc4\n",
    "file_list = glob.glob(folder_path)\n",
    "\n",
    "# Danh sách lưu DataFrame từ mỗi file\n",
    "df_list = []"
   ]
  },
  {
   "cell_type": "code",
   "execution_count": null,
   "id": "1bd30561",
   "metadata": {},
   "outputs": [],
   "source": [
    "for file in file_list:\n",
    "    filename = os.path.basename(file)\n",
    "    date_str = filename.split('_')[2]\n",
    "    full_date = f\"20{date_str[:2]}-{date_str[2:4]}-{date_str[4:6]}\"\n",
    "    try:\n",
    "        ds = xr.open_dataset(file)\n",
    "        df = pd.DataFrame({\n",
    "            \"file_date\": full_date,\n",
    "            \"latitude\": ds[\"latitude\"].values,\n",
    "            \"longitude\": ds[\"longitude\"].values,\n",
    "            \"sza\": ds[\"solar_zenith_angle\"].values,\n",
    "            \"vza\": ds[\"sensor_zenith_angle\"].values,\n",
    "            \"xco2\": ds[\"xco2\"].values,\n",
    "            \"xco2_sigma\": ds[\"xco2_uncertainty\"].values,\n",
    "            \"xco2_qual\": ds[\"xco2_quality_flag\"].values,\n",
    "            \"time\": ds[\"time\"].values,\n",
    "        })\n",
    "        df_list.append(df)\n",
    "    except Exception as e:\n",
    "        print(f\"❌ Lỗi với file {file}: {e}\")\n",
    "\n",
    "# Kết hợp tất cả DataFrame thành một DataFrame duy nhất\n",
    "df_final = pd.concat(df_list, ignore_index=True)\n",
    "\n",
    "# Xuất CSV\n",
    "output_csv = \"oco2_all_2020.csv\"\n",
    "df_final.to_csv(output_csv, index=False)\n",
    "\n",
    "print(f\"✅ Xuất dữ liệu thành công ra {output_csv}!\")\n",
    "print(f\"📂 Tổng số file đã xử lý: {len(file_list)}\")\n",
    "print(f\"📊 Tổng số dòng dữ liệu: {len(df_final)}\")\n"
   ]
  },
  {
   "cell_type": "markdown",
   "id": "713ecc8a",
   "metadata": {},
   "source": [
    "## Xuất dữ liệu CO2 từ OCO2_all lọc theo ranh giới Việt Nam sang file OCO2_vietnam\n"
   ]
  },
  {
   "cell_type": "code",
   "execution_count": null,
   "id": "6d58b9aa",
   "metadata": {},
   "outputs": [],
   "source": [
    "import pandas as pd\n",
    "import geopandas as gpd\n",
    "from shapely.geometry import Point\n",
    "import os"
   ]
  },
  {
   "cell_type": "code",
   "execution_count": null,
   "id": "0dcc8d82",
   "metadata": {},
   "outputs": [],
   "source": [
    "# Đường dẫn\n",
    "input_csv_path = r\"E:\\DownloadData\\co2_nasa\\data\\oco2_csv\\oco2_all_2020.csv\"\n",
    "shapefile_path = r\"E:\\RanhGioi\\VNM_adm\\gadm41_VNM_0.shp\"\n",
    "output_csv_path = r\"E:\\DownloadData\\co2_nasa\\data\\oco2_csv\\oco2_vietnam_2020.csv\"\n",
    "\n",
    "# Đọc shapefile ranh giới Việt Nam\n",
    "gdf_vn = gpd.read_file(shapefile_path)\n",
    "if gdf_vn.crs != \"EPSG:4326\":\n",
    "    gdf_vn = gdf_vn.to_crs(epsg=4326)\n",
    "\n",
    "# Lấy bounding box để lọc sơ bộ\n",
    "min_lon, min_lat, max_lon, max_lat = gdf_vn.total_bounds\n",
    "\n",
    "# Nếu file đã tồn tại thì xóa để ghi mới\n",
    "if os.path.exists(output_csv_path):\n",
    "    os.remove(output_csv_path)\n",
    "\n",
    "# Đọc và xử lý từng phần nhỏ\n",
    "chunk_size = 500_000  # có thể thay đổi tùy theo RAM\n",
    "chunk_idx = 0\n",
    "\n",
    "for chunk in pd.read_csv(input_csv_path, chunksize=chunk_size):\n",
    "    chunk_idx += 1\n",
    "    print(f\"🔄 Đang xử lý phần {chunk_idx}...\")\n",
    "\n",
    "    # Lọc sơ bộ theo bounding box\n",
    "    chunk = chunk[\n",
    "        (chunk[\"longitude\"] >= min_lon) & (chunk[\"longitude\"] <= max_lon) &\n",
    "        (chunk[\"latitude\"] >= min_lat) & (chunk[\"latitude\"] <= max_lat)\n",
    "    ]\n",
    "\n",
    "    # Tạo GeoDataFrame từ chunk đã lọc\n",
    "    geometry = [Point(xy) for xy in zip(chunk[\"longitude\"], chunk[\"latitude\"])]\n",
    "    gdf_chunk = gpd.GeoDataFrame(chunk, geometry=geometry, crs=\"EPSG:4326\")\n",
    "\n",
    "    # Lọc chính xác bằng spatial join\n",
    "    gdf_filtered = gpd.sjoin(gdf_chunk, gdf_vn, predicate=\"within\", how=\"inner\")\n",
    "\n",
    "    # Xóa các cột không cần\n",
    "    gdf_filtered.drop(columns=[\"geometry\", \"index_right\"], errors=\"ignore\", inplace=True)\n",
    "\n",
    "    # Ghi kết quả vào file (append)\n",
    "    gdf_filtered.to_csv(output_csv_path, mode='a', index=False, header=not os.path.exists(output_csv_path))\n",
    "\n",
    "    print(f\"✅ Đã xử lý xong phần {chunk_idx}, ghi {len(gdf_filtered)} dòng.\")\n",
    "\n",
    "print(\"🎉 Hoàn tất lọc toàn bộ dữ liệu!\")"
   ]
  },
  {
   "cell_type": "markdown",
   "id": "a541d095",
   "metadata": {},
   "source": [
    "## Lọc dữ liệu theo xco2_qual "
   ]
  },
  {
   "cell_type": "code",
   "execution_count": null,
   "id": "c235572a",
   "metadata": {},
   "outputs": [],
   "source": [
    "import pandas as pd\n",
    "\n",
    "df = pd.read_csv(r\"E:\\DownloadData\\co2_nasa\\data\\oco2_csv\\oco2_vietnam_2020.csv\")\n",
    "\n",
    "# Kiểm tra cột có tên đúng không\n",
    "print(df.columns)\n",
    "\n",
    "# Kiểm tra giá trị duy nhất trong cột xco2_qual\n",
    "print(df['xco2_qual'].unique())\n"
   ]
  },
  {
   "cell_type": "code",
   "execution_count": null,
   "id": "ccfe765b",
   "metadata": {},
   "outputs": [],
   "source": [
    "import pandas as pd\n",
    "\n",
    "# Đọc file\n",
    "df = pd.read_csv(r\"E:\\DownloadData\\co2_nasa\\data\\oco2_csv\\oco2_vietnam_2020.csv\")\n",
    "\n",
    "# Lọc các dòng có xco2_qual = 0\n",
    "filtered_df = df[df['xco2_qual'] == 0.0]  # dùng 0.0 hoặc 0 đều được\n",
    "\n",
    "# Kiểm tra số dòng lọc được\n",
    "print(f\"Số dòng sau khi lọc xco2_qual = 0: {len(filtered_df)}\")\n",
    "\n",
    "# Xuất ra CSV\n",
    "filtered_df.to_csv(r\"E:\\DownloadData\\co2_nasa\\data\\oco2_csv\\vn_xco2_qual0.csv\", index=False)\n"
   ]
  }
 ],
 "metadata": {
  "kernelspec": {
   "display_name": "base",
   "language": "python",
   "name": "python3"
  },
  "language_info": {
   "codemirror_mode": {
    "name": "ipython",
    "version": 3
   },
   "file_extension": ".py",
   "mimetype": "text/x-python",
   "name": "python",
   "nbconvert_exporter": "python",
   "pygments_lexer": "ipython3",
   "version": "3.12.3"
  }
 },
 "nbformat": 4,
 "nbformat_minor": 5
}
