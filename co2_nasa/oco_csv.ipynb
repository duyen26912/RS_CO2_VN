{
 "cells": [
  {
   "cell_type": "markdown",
   "id": "ab775592",
   "metadata": {},
   "source": [
    "# Chuyển oco2 nc4 thành csv\n"
   ]
  },
  {
   "cell_type": "markdown",
   "id": "3c9ba6fb",
   "metadata": {},
   "source": [
    "### 1. Import thư viện\n"
   ]
  },
  {
   "cell_type": "code",
   "execution_count": 5,
   "id": "cde4bdd8",
   "metadata": {},
   "outputs": [],
   "source": [
    "import xarray as xr # Thư viện xử lý dữ liệu dạng lưới (grid)(.nc, .nc4)\n",
    "import pandas as pd # Thư viện xử lý dữ liệu dạng bảng (.csv)\n",
    "import glob # Thư viện tìm kiếm file theo mẫu \n",
    "import os # Thư viện xử lý file và thư mục\n",
    "import geopandas as gpd # Thư viện xử lý dữ liệu không gian\n",
    "from datetime import datetime, timedelta # Thư viện xử lý thời gian\n",
    "from shapely.geometry import Point # thư viện xử lý dữ liệu hình học\n"
   ]
  },
  {
   "cell_type": "markdown",
   "id": "e2010924",
   "metadata": {},
   "source": [
    "### 2. Đọc và kiểm tra cấu trúc dữ liệu CO₂ trong file .nc4\n"
   ]
  },
  {
   "cell_type": "code",
   "execution_count": null,
   "id": "d52981cf",
   "metadata": {},
   "outputs": [],
   "source": [
    "# Xác định file .nc4 và đọc dữ liệu bằng xarray\n",
    "# Đường dẫn tới file .nc4\n",
    "file_path = r\"E:\\DownloadData\\co2_nasa\\data\\nc4\\oco2_nc4_2021\\oco2_LtCO2_201231_B11210Ar_240913234539s.nc4\"  \n",
    "\n",
    "# Mở file .nc4\n",
    "ds = xr.open_dataset(file_path)\n",
    "\n",
    "# In thông tin toàn bộ dataset\n",
    "print(ds)\n",
    "\n",
    "# In danh sách các biến\n",
    "print(\"\\n🔹 Danh sách biến:\")\n",
    "print(list(ds.data_vars))\n",
    "\n",
    "# In các chiều dữ liệu\n",
    "print(\"\\n🔹 Các chiều:\")\n",
    "print(list(ds.dims))\n",
    "\n",
    "# In thuộc tính toàn cục\n",
    "print(\"\\n🔹 Global attributes:\")\n",
    "print(ds.attrs)\n",
    "\n",
    "# Đóng file sau khi đọc\n",
    "ds.close()\n"
   ]
  },
  {
   "cell_type": "markdown",
   "id": "0392572c",
   "metadata": {},
   "source": [
    "### 3. Chuẩn bị đọc nhiều dữ liệu nc4 cùng lúc"
   ]
  },
  {
   "cell_type": "code",
   "execution_count": null,
   "id": "c47c2170",
   "metadata": {},
   "outputs": [],
   "source": [
    "# Đường dẫn đến thư mục chứa các file .nc4\n",
    "folder_path = \"E:\\\\DownloadData\\\\co2_nasa\\\\data\\\\nc4\\\\oco3_nc4_2024\\\\*.nc4\"\n",
    "\n",
    "# Lấy danh sách tất cả các file .nc4\n",
    "file_list = glob.glob(folder_path) \n",
    "\n",
    "# Danh sách lưu DataFrame từ mỗi file\n",
    "df_list = []"
   ]
  },
  {
   "cell_type": "markdown",
   "id": "05f396b6",
   "metadata": {},
   "source": [
    "### 4. Đọc, trích xuất và xuất dữ liệu CO₂ (OCO-3. OCO-2)"
   ]
  },
  {
   "cell_type": "code",
   "execution_count": null,
   "id": "1bd30561",
   "metadata": {},
   "outputs": [
    {
     "name": "stdout",
     "output_type": "stream",
     "text": [
      "❌ Lỗi với file E:\\DownloadData\\co2_nasa\\data\\nc4\\oco3_nc4_2024\\oco3_LtCO2_241227_B11072Ar_250206192417s.nc4: [Errno -101] NetCDF: HDF error: b'E:\\\\DownloadData\\\\co2_nasa\\\\data\\\\nc4\\\\oco3_nc4_2024\\\\oco3_LtCO2_241227_B11072Ar_250206192417s.nc4'\n",
      "✅ Xuất dữ liệu thành công ra E:\\DownloadData\\co2_nasa\\data\\csv\\2024\\oco3\\oco3_all_2024.csv!\n",
      "📂 Tổng số file đã xử lý: 165\n",
      "📊 Tổng số dòng dữ liệu: 21758432\n"
     ]
    }
   ],
   "source": [
    "for file in file_list: # Lặp qua từng file\n",
    "    filename = os.path.basename(file) # Lấy tên file từ đường dẫn\n",
    "    date_str = filename.split('_')[2] \n",
    "    full_date = f\"20{date_str[:2]}-{date_str[2:4]}-{date_str[4:6]}\" \n",
    "    # Thử đọc file và trích xuất dữ liệu\n",
    "    try: \n",
    "        ds = xr.open_dataset(file)\n",
    "        df = pd.DataFrame({\n",
    "            \"file_date\": full_date,\n",
    "            \"latitude\": ds[\"latitude\"].values,\n",
    "            \"longitude\": ds[\"longitude\"].values,\n",
    "            \"sza\": ds[\"solar_zenith_angle\"].values,\n",
    "            \"vza\": ds[\"sensor_zenith_angle\"].values,\n",
    "            \"xco2\": ds[\"xco2\"].values,\n",
    "            \"xco2_sigma\": ds[\"xco2_uncertainty\"].values,\n",
    "            \"xco2_qual\": ds[\"xco2_quality_flag\"].values,\n",
    "            \"time\": ds[\"time\"].values,\n",
    "        })\n",
    "        df_list.append(df)\n",
    "    # Bắt lỗi nếu có\n",
    "    except Exception as e: \n",
    "        print(f\"❌ Lỗi với file {file}: {e}\")\n",
    "\n",
    "# Kết hợp tất cả DataFrame thành một DataFrame duy nhất\n",
    "df_final = pd.concat(df_list, ignore_index=True)\n",
    "\n",
    "# Xuất CSV\n",
    "output_csv = r\"E:\\DownloadData\\co2_nasa\\data\\csv\\2024\\oco3\\oco3_all_2024.csv\"\n",
    "df_final.to_csv(output_csv, index=False)\n",
    "\n",
    "print(f\"✅ Xuất dữ liệu thành công ra {output_csv}!\")\n",
    "print(f\"📂 Tổng số file đã xử lý: {len(file_list)}\")\n",
    "print(f\"📊 Tổng số dòng dữ liệu: {len(df_final)}\")\n"
   ]
  },
  {
   "cell_type": "markdown",
   "id": "df1c3985",
   "metadata": {},
   "source": [
    "### 5. Đọc 1 file .nc4 lỗi khi tải ở mục 4(nếu không lỗi không phải chạy code này) và xuất ra CSV"
   ]
  },
  {
   "cell_type": "code",
   "execution_count": null,
   "id": "f2326c76",
   "metadata": {},
   "outputs": [
    {
     "name": "stdout",
     "output_type": "stream",
     "text": [
      "✅ Đã trích xuất thành công!\n",
      "📂 File CSV: E:\\DownloadData\\co2_nasa\\data\\csv\\oco3_241227.csv\n",
      "📊 Số dòng dữ liệu: 239372\n"
     ]
    }
   ],
   "source": [
    "# Đường dẫn tới file .nc4 cụ thể\n",
    "file_path = r\"E:\\oco3_LtCO2_241227_B11072Ar_250206192417s.nc4\"\n",
    "\n",
    "# Lấy ngày từ tên file\n",
    "file_name = os.path.basename(file_path)\n",
    "full_date = file_name.split(\"_\")[2]\n",
    "full_date = f\"20{date_str[:2]}-{date_str[2:4]}-{date_str[4:6]}\"  # → '2024-12-27'\n",
    "\n",
    "# Mở file .nc4 trích xuất dữ liệu\n",
    "ds = xr.open_dataset(file_path)\n",
    "\n",
    "# Tạo DataFrame từ các biến cần thiết\n",
    "df = pd.DataFrame({\n",
    "    \"file_date\": full_date,\n",
    "    \"latitude\": ds[\"latitude\"].values,\n",
    "    \"longitude\": ds[\"longitude\"].values,\n",
    "    \"sza\": ds[\"solar_zenith_angle\"].values,\n",
    "    \"vza\": ds[\"sensor_zenith_angle\"].values,\n",
    "    \"xco2\": ds[\"xco2\"].values,\n",
    "    \"xco2_sigma\": ds[\"xco2_uncertainty\"].values,\n",
    "    \"xco2_qual\": ds[\"xco2_quality_flag\"].values,\n",
    "    \"time\": ds[\"time\"].values\n",
    "})\n",
    "\n",
    "# Xuất DataFrame ra file CSV\n",
    "output_csv = r\"E:\\DownloadData\\co2_nasa\\data\\csv\\oco3_241227.csv\"\n",
    "df.to_csv(output_csv, index=False, encoding=\"utf-8\") \n",
    "\n",
    "print(\"✅ Đã trích xuất thành công!\")\n",
    "print(f\"📂 File CSV: {output_csv}\")\n",
    "print(f\"📊 Số dòng dữ liệu: {len(df)}\")\n"
   ]
  },
  {
   "cell_type": "markdown",
   "id": "713ecc8a",
   "metadata": {},
   "source": [
    "### 6. Xuất dữ liệu CO2 từ OCO2_all lọc theo ranh giới Việt Nam sang file OCO2_vietnam\n"
   ]
  },
  {
   "cell_type": "code",
   "execution_count": 12,
   "id": "0dcc8d82",
   "metadata": {},
   "outputs": [
    {
     "name": "stdout",
     "output_type": "stream",
     "text": [
      "🔄 Đang xử lý phần 1...\n",
      "✅ Đã xử lý xong phần 1, ghi 4 dòng.\n",
      "🔄 Đang xử lý phần 2...\n",
      "✅ Đã xử lý xong phần 2, ghi 10 dòng.\n",
      "🔄 Đang xử lý phần 3...\n",
      "✅ Đã xử lý xong phần 3, ghi 0 dòng.\n",
      "🔄 Đang xử lý phần 4...\n",
      "✅ Đã xử lý xong phần 4, ghi 0 dòng.\n",
      "🔄 Đang xử lý phần 5...\n",
      "✅ Đã xử lý xong phần 5, ghi 113 dòng.\n",
      "🔄 Đang xử lý phần 6...\n",
      "✅ Đã xử lý xong phần 6, ghi 0 dòng.\n",
      "🔄 Đang xử lý phần 7...\n",
      "✅ Đã xử lý xong phần 7, ghi 203 dòng.\n",
      "🔄 Đang xử lý phần 8...\n",
      "✅ Đã xử lý xong phần 8, ghi 17 dòng.\n",
      "🔄 Đang xử lý phần 9...\n",
      "✅ Đã xử lý xong phần 9, ghi 13 dòng.\n",
      "🔄 Đang xử lý phần 10...\n",
      "✅ Đã xử lý xong phần 10, ghi 0 dòng.\n",
      "🔄 Đang xử lý phần 11...\n",
      "✅ Đã xử lý xong phần 11, ghi 0 dòng.\n",
      "🔄 Đang xử lý phần 12...\n",
      "✅ Đã xử lý xong phần 12, ghi 0 dòng.\n",
      "🔄 Đang xử lý phần 13...\n",
      "✅ Đã xử lý xong phần 13, ghi 403 dòng.\n",
      "🔄 Đang xử lý phần 14...\n",
      "✅ Đã xử lý xong phần 14, ghi 28 dòng.\n",
      "🔄 Đang xử lý phần 15...\n",
      "✅ Đã xử lý xong phần 15, ghi 554 dòng.\n",
      "🔄 Đang xử lý phần 16...\n",
      "✅ Đã xử lý xong phần 16, ghi 0 dòng.\n",
      "🔄 Đang xử lý phần 17...\n",
      "✅ Đã xử lý xong phần 17, ghi 120 dòng.\n",
      "🔄 Đang xử lý phần 18...\n",
      "✅ Đã xử lý xong phần 18, ghi 0 dòng.\n",
      "🔄 Đang xử lý phần 19...\n",
      "✅ Đã xử lý xong phần 19, ghi 838 dòng.\n",
      "🔄 Đang xử lý phần 20...\n",
      "✅ Đã xử lý xong phần 20, ghi 237 dòng.\n",
      "🔄 Đang xử lý phần 21...\n",
      "✅ Đã xử lý xong phần 21, ghi 13 dòng.\n",
      "🔄 Đang xử lý phần 22...\n",
      "✅ Đã xử lý xong phần 22, ghi 305 dòng.\n",
      "🔄 Đang xử lý phần 23...\n",
      "✅ Đã xử lý xong phần 23, ghi 423 dòng.\n",
      "🔄 Đang xử lý phần 24...\n",
      "✅ Đã xử lý xong phần 24, ghi 594 dòng.\n",
      "🔄 Đang xử lý phần 25...\n",
      "✅ Đã xử lý xong phần 25, ghi 0 dòng.\n",
      "🔄 Đang xử lý phần 26...\n",
      "✅ Đã xử lý xong phần 26, ghi 0 dòng.\n",
      "🔄 Đang xử lý phần 27...\n",
      "✅ Đã xử lý xong phần 27, ghi 10 dòng.\n",
      "🔄 Đang xử lý phần 28...\n",
      "✅ Đã xử lý xong phần 28, ghi 0 dòng.\n",
      "🔄 Đang xử lý phần 29...\n",
      "✅ Đã xử lý xong phần 29, ghi 0 dòng.\n",
      "🔄 Đang xử lý phần 30...\n",
      "✅ Đã xử lý xong phần 30, ghi 0 dòng.\n",
      "🔄 Đang xử lý phần 31...\n",
      "✅ Đã xử lý xong phần 31, ghi 613 dòng.\n",
      "🔄 Đang xử lý phần 32...\n",
      "✅ Đã xử lý xong phần 32, ghi 1069 dòng.\n",
      "🔄 Đang xử lý phần 33...\n",
      "✅ Đã xử lý xong phần 33, ghi 164 dòng.\n",
      "🔄 Đang xử lý phần 34...\n",
      "✅ Đã xử lý xong phần 34, ghi 0 dòng.\n",
      "🔄 Đang xử lý phần 35...\n",
      "✅ Đã xử lý xong phần 35, ghi 0 dòng.\n",
      "🔄 Đang xử lý phần 36...\n",
      "✅ Đã xử lý xong phần 36, ghi 830 dòng.\n",
      "🔄 Đang xử lý phần 37...\n",
      "✅ Đã xử lý xong phần 37, ghi 521 dòng.\n",
      "🔄 Đang xử lý phần 38...\n",
      "✅ Đã xử lý xong phần 38, ghi 36 dòng.\n",
      "🔄 Đang xử lý phần 39...\n",
      "✅ Đã xử lý xong phần 39, ghi 3 dòng.\n",
      "🔄 Đang xử lý phần 40...\n",
      "✅ Đã xử lý xong phần 40, ghi 41 dòng.\n",
      "🔄 Đang xử lý phần 41...\n",
      "✅ Đã xử lý xong phần 41, ghi 148 dòng.\n",
      "🔄 Đang xử lý phần 42...\n",
      "✅ Đã xử lý xong phần 42, ghi 6 dòng.\n",
      "🔄 Đang xử lý phần 43...\n",
      "✅ Đã xử lý xong phần 43, ghi 0 dòng.\n",
      "🔄 Đang xử lý phần 44...\n",
      "✅ Đã xử lý xong phần 44, ghi 25 dòng.\n",
      "🎉 Hoàn tất lọc toàn bộ dữ liệu!\n"
     ]
    }
   ],
   "source": [
    "# Đường dẫn các file \n",
    "input_csv_path = r\"E:\\DownloadData\\co2_nasa\\data\\csv\\2024\\oco3\\oco3_all_2024.csv\"\n",
    "shapefile_path = r\"E:\\RanhGioi\\VNM_adm\\gadm41_VNM_0.shp\"\n",
    "output_csv_path = r\"E:\\DownloadData\\co2_nasa\\data\\csv\\2024\\oco3\\oco3_vietnam_2024.csv\"\n",
    "\n",
    "# Đọc shapefile ranh giới Việt Nam\n",
    "gdf_vn = gpd.read_file(shapefile_path)\n",
    "if gdf_vn.crs != \"EPSG:4326\":\n",
    "    gdf_vn = gdf_vn.to_crs(epsg=4326)\n",
    "\n",
    "# Lấy bounding box để lọc sơ bộ\n",
    "min_lon, min_lat, max_lon, max_lat = gdf_vn.total_bounds\n",
    "\n",
    "# Nếu file đã tồn tại thì xóa để ghi mới\n",
    "if os.path.exists(output_csv_path):\n",
    "    os.remove(output_csv_path)\n",
    "\n",
    "# Đọc và xử lý từng phần nhỏ\n",
    "chunk_size = 500_000  # có thể thay đổi tùy theo RAM\n",
    "chunk_idx = 0\n",
    "\n",
    "for chunk in pd.read_csv(input_csv_path, chunksize=chunk_size):\n",
    "    chunk_idx += 1\n",
    "    print(f\"🔄 Đang xử lý phần {chunk_idx}...\")\n",
    "\n",
    "    # Lọc sơ bộ theo bounding box\n",
    "    chunk = chunk[\n",
    "        (chunk[\"longitude\"] >= min_lon) & (chunk[\"longitude\"] <= max_lon) &\n",
    "        (chunk[\"latitude\"] >= min_lat) & (chunk[\"latitude\"] <= max_lat)\n",
    "    ]\n",
    "\n",
    "    # Tạo GeoDataFrame từ chunk đã lọc\n",
    "    geometry = [Point(xy) for xy in zip(chunk[\"longitude\"], chunk[\"latitude\"])]\n",
    "    gdf_chunk = gpd.GeoDataFrame(chunk, geometry=geometry, crs=\"EPSG:4326\")\n",
    "\n",
    "    # Lọc chính xác bằng spatial join\n",
    "    gdf_filtered = gpd.sjoin(gdf_chunk, gdf_vn, predicate=\"within\", how=\"inner\")\n",
    "\n",
    "    # Xóa các cột không cần\n",
    "    gdf_filtered.drop(columns=[\"geometry\", \"index_right\"], errors=\"ignore\", inplace=True)\n",
    "\n",
    "    # Ghi kết quả vào file (append)\n",
    "    gdf_filtered.to_csv(output_csv_path, mode='a', index=False, header=not os.path.exists(output_csv_path))\n",
    "\n",
    "    print(f\"✅ Đã xử lý xong phần {chunk_idx}, ghi {len(gdf_filtered)} dòng.\")\n",
    "\n",
    "print(\"🎉 Hoàn tất lọc toàn bộ dữ liệu!\")"
   ]
  },
  {
   "cell_type": "markdown",
   "id": "a541d095",
   "metadata": {},
   "source": [
    "###  7. Lọc dữ liệu theo chấy lượng(quality flag) xco2_qual "
   ]
  },
  {
   "cell_type": "code",
   "execution_count": 10,
   "id": "c235572a",
   "metadata": {},
   "outputs": [
    {
     "name": "stdout",
     "output_type": "stream",
     "text": [
      "Index(['file_date', 'latitude', 'longitude', 'sza', 'vza', 'xco2',\n",
      "       'xco2_sigma', 'xco2_qual', 'time', 'GID_0', 'COUNTRY'],\n",
      "      dtype='object')\n",
      "[1. 0.]\n"
     ]
    }
   ],
   "source": [
    "# Đọc file CSV đã lọc\n",
    "\n",
    "df = pd.read_csv(r\"E:\\DownloadData\\co2_nasa\\data\\csv\\2023\\oco2\\oco2_vietnam_2023.csv\")\n",
    "# Kiểm tra cột có tên đúng không\n",
    "print(df.columns)\n",
    "\n",
    "# Kiểm tra giá trị duy nhất trong cột xco2_qual\n",
    "print(df['xco2_qual'].unique())\n"
   ]
  },
  {
   "cell_type": "code",
   "execution_count": 17,
   "id": "ccfe765b",
   "metadata": {},
   "outputs": [
    {
     "name": "stdout",
     "output_type": "stream",
     "text": [
      "Số dòng sau khi lọc xco2_qual = 0: 1931\n"
     ]
    }
   ],
   "source": [
    "# Đọc file\n",
    "df = pd.read_csv(r\"E:\\DownloadData\\co2_nasa\\data\\csv\\2024\\oco3\\oco3_vietnam_2024.csv\")\n",
    "\n",
    "# Lọc các dòng có xco2_qual = 0\n",
    "filtered_df = df[df['xco2_qual'] == 0.0]  # dùng 0.0 hoặc 0 đều được\n",
    "\n",
    "# Kiểm tra số dòng lọc được\n",
    "print(f\"Số dòng sau khi lọc xco2_qual = 0: {len(filtered_df)}\")\n",
    "\n",
    "# Xuất ra CSV\n",
    "filtered_df.to_csv(r\"E:\\DownloadData\\co2_nasa\\data\\csv\\2024\\oco3\\oco3_vn_qual0_2024.csv\", index=False)\n"
   ]
  },
  {
   "cell_type": "markdown",
   "id": "c3206385",
   "metadata": {},
   "source": [
    "### 7.Gộp dữ liệu file oco3 và oco2\n"
   ]
  },
  {
   "cell_type": "code",
   "execution_count": 19,
   "id": "a6dcf760",
   "metadata": {},
   "outputs": [
    {
     "name": "stdout",
     "output_type": "stream",
     "text": [
      "✅ Đã gộp và sắp xếp xong dữ liệu!\n"
     ]
    }
   ],
   "source": [
    "\n",
    "# Đọc 2 file CSV\n",
    "df1 = pd.read_csv(r\"E:\\DownloadData\\co2_nasa\\data\\csv\\2024\\oco2\\oco2_vn_qual0_2024.csv\")\n",
    "df2 = pd.read_csv(r\"E:\\DownloadData\\co2_nasa\\data\\csv\\2024\\oco3\\oco3_vn_qual0_2024.csv\")\n",
    "\n",
    "# Gộp 2 file\n",
    "df_merged = pd.concat([df1, df2], ignore_index=True)\n",
    "\n",
    "# Chuyển cột 'file_date' về dạng datetime (tự động nhận dạng định dạng ngày)\n",
    "df_merged['file_date'] = pd.to_datetime(df_merged['file_date'], errors='coerce')\n",
    "\n",
    "# Kiểm tra nếu có dòng lỗi định dạng ngày\n",
    "invalid_dates = df_merged[df_merged['file_date'].isna()]\n",
    "if not invalid_dates.empty:\n",
    "    print(\"⚠️ Có dòng lỗi định dạng ngày, sẽ bị xoá:\")\n",
    "    print(invalid_dates)\n",
    "\n",
    "# Xoá các dòng có giá trị NaT ở 'file_date'\n",
    "df_merged = df_merged.dropna(subset=['file_date'])\n",
    "\n",
    "# Sắp xếp theo ngày tăng dần\n",
    "df_merged = df_merged.sort_values(by='file_date').reset_index(drop=True)\n",
    "\n",
    "# Xuất file CSV đã gộp và sắp xếp\n",
    "df_merged.to_csv(r\"E:\\DownloadData\\co2_nasa\\data\\csv\\2024\\oco_merged_2024.csv\", index=False)\n",
    "\n",
    "print(\"✅ Đã gộp và sắp xếp xong dữ liệu!\")"
   ]
  },
  {
   "cell_type": "code",
   "execution_count": 21,
   "id": "9c96ee07",
   "metadata": {},
   "outputs": [],
   "source": [
    "\n",
    "\n",
    "# Đọc file đầy đủ (nhưng thiếu 2 ngày)\n",
    "df_full = pd.read_csv(r\"E:\\DownloadData\\co2_nasa\\data\\csv\\2024\\oco_merged_2024.csv\")\n",
    "\n",
    "# Đọc hai file bổ sung\n",
    "df_0525 = pd.read_csv(r\"E:\\DownloadData\\co2_nasa\\data\\csv\\oco2_240525_vn_qual0.csv\")\n",
    "df_0705 = pd.read_csv(r\"E:\\DownloadData\\co2_nasa\\data\\csv\\oco2_240705_vn_qual0.csv\")\n",
    "\n",
    "# Gộp 2 file bổ sung lại\n",
    "df_missing = pd.concat([df_0525, df_0705], ignore_index=True)\n",
    "\n",
    "# Gộp toàn bộ vào file chính\n",
    "df_all = pd.concat([df_full, df_missing], ignore_index=True)\n",
    "\n",
    "# Sắp xếp theo ngày (file_date)\n",
    "df_all = df_all.sort_values(by=\"file_date\")\n",
    "\n",
    "# Ghi ra file mới\n",
    "df_all.to_csv(r\"E:\\DownloadData\\co2_nasa\\data\\csv\\2024\\oco_merged_2024_final.csv\", index=False)\n"
   ]
  }
 ],
 "metadata": {
  "kernelspec": {
   "display_name": "base",
   "language": "python",
   "name": "python3"
  },
  "language_info": {
   "codemirror_mode": {
    "name": "ipython",
    "version": 3
   },
   "file_extension": ".py",
   "mimetype": "text/x-python",
   "name": "python",
   "nbconvert_exporter": "python",
   "pygments_lexer": "ipython3",
   "version": "3.12.3"
  }
 },
 "nbformat": 4,
 "nbformat_minor": 5
}
