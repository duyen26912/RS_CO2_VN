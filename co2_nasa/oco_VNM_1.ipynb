{
 "cells": [
  {
   "cell_type": "markdown",
   "id": "51df0c27",
   "metadata": {},
   "source": [
    "# Lọc các điểm csv theo shapefile "
   ]
  },
  {
   "cell_type": "code",
   "execution_count": 1,
   "id": "8ec3a079",
   "metadata": {},
   "outputs": [],
   "source": [
    "import pandas as pd\n",
    "import geopandas as gpd\n",
    "from shapely.geometry import Point"
   ]
  },
  {
   "cell_type": "code",
   "execution_count": 2,
   "id": "0209b8c3",
   "metadata": {},
   "outputs": [
    {
     "name": "stdout",
     "output_type": "stream",
     "text": [
      "Đã lọc xong\n"
     ]
    }
   ],
   "source": [
    "# === Bước 1: Đọc file CSV ===\n",
    "csv_path = r\"E:\\DownloadData\\co2_nasa\\data\\csv\\2022\\oco_rice_2022.csv\"  # đường dẫn đến file CSV\n",
    "df = pd.read_csv(csv_path)\n",
    "\n",
    "# Tạo cột geometry từ longitude và latitude\n",
    "geometry = [Point(xy) for xy in zip(df['longitude'], df['latitude'])]\n",
    "\n",
    "# Tạo GeoDataFrame từ DataFrame\n",
    "gdf_points = gpd.GeoDataFrame(df, geometry=geometry, crs=\"EPSG:4326\")\n",
    "\n",
    "# === Bước 2: Đọc shapefile Hà Nội ===\n",
    "shapefile_path = r\"E:\\RanhGioi\\HaNoi\\HaNoi.shp\"\n",
    "gdf_hanoi = gpd.read_file(shapefile_path)\n",
    "\n",
    "# Chuyển hệ tọa độ của điểm cho khớp với shapefile nếu cần\n",
    "if gdf_points.crs != gdf_hanoi.crs:\n",
    "    gdf_points = gdf_points.to_crs(gdf_hanoi.crs)\n",
    "\n",
    "# === Bước 3: Lọc các điểm nằm trong vùng Hà Nội ===\n",
    "points_in_hanoi = gdf_points[gdf_points.within(gdf_hanoi.unary_union)]\n",
    "\n",
    "# === Bước 4: Xuất ra CSV mới ===\n",
    "points_in_hanoi.drop(columns='geometry').to_csv(r\"E:\\DownloadData\\co2_nasa\\data\\csv\\2022\\oco_hanoi_2022.csv\", index=False)\n",
    "\n",
    "print(\"Đã lọc xong\")"
   ]
  }
 ],
 "metadata": {
  "kernelspec": {
   "display_name": "base",
   "language": "python",
   "name": "python3"
  },
  "language_info": {
   "codemirror_mode": {
    "name": "ipython",
    "version": 3
   },
   "file_extension": ".py",
   "mimetype": "text/x-python",
   "name": "python",
   "nbconvert_exporter": "python",
   "pygments_lexer": "ipython3",
   "version": "3.12.3"
  }
 },
 "nbformat": 4,
 "nbformat_minor": 5
}
