{
 "cells": [
  {
   "cell_type": "code",
   "execution_count": 3,
   "id": "1a6d8ec8",
   "metadata": {},
   "outputs": [],
   "source": [
    "import rasterio\n",
    "from rasterio.merge import merge\n",
    "from rasterio.plot import show\n",
    "import os\n",
    "from glob import glob"
   ]
  },
  {
   "cell_type": "code",
   "execution_count": 4,
   "id": "c428877a",
   "metadata": {},
   "outputs": [
    {
     "name": "stdout",
     "output_type": "stream",
     "text": [
      "✅ Đã gộp xong. File lưu tại: E:\\RanhGioi\\LandCoverMap\\landcover_2020.tif\n"
     ]
    }
   ],
   "source": [
    "# === BƯỚC 1: Đọc tất cả các file TIF trong thư mục ===\n",
    "folder_path = \"E:\\\\Downloads\\\\Vietnam_v23.09_10m\\\\Vietnam_v23.09_10m\"  # ← Sửa lại đường dẫn của bạn\n",
    "tif_files = glob(os.path.join(folder_path, \"*.tif\"))\n",
    "\n",
    "src_files_to_mosaic = [rasterio.open(fp) for fp in tif_files]\n",
    "\n",
    "# === BƯỚC 2: Tiến hành merge (ghép ảnh) ===\n",
    "mosaic, out_trans = merge(src_files_to_mosaic)\n",
    "\n",
    "# === BƯỚC 3: Lưu file raster đã gộp ===\n",
    "out_meta = src_files_to_mosaic[0].meta.copy()\n",
    "out_meta.update({\n",
    "    \"driver\": \"GTiff\",\n",
    "    \"height\": mosaic.shape[1],\n",
    "    \"width\": mosaic.shape[2],\n",
    "    \"transform\": out_trans,\n",
    "    \"count\": 1\n",
    "})\n",
    "\n",
    "# Đường dẫn lưu raster gộp\n",
    "output_path = \"E:\\\\RanhGioi\\\\LandCoverMap\\\\landcover_2020.tif\"\n",
    "\n",
    "with rasterio.open(output_path, \"w\", **out_meta) as dest:\n",
    "    dest.write(mosaic)\n",
    "\n",
    "print(f\"✅ Đã gộp xong. File lưu tại: {output_path}\")"
   ]
  }
 ],
 "metadata": {
  "kernelspec": {
   "display_name": "geoenv",
   "language": "python",
   "name": "python3"
  },
  "language_info": {
   "codemirror_mode": {
    "name": "ipython",
    "version": 3
   },
   "file_extension": ".py",
   "mimetype": "text/x-python",
   "name": "python",
   "nbconvert_exporter": "python",
   "pygments_lexer": "ipython3",
   "version": "3.10.18"
  }
 },
 "nbformat": 4,
 "nbformat_minor": 5
}
