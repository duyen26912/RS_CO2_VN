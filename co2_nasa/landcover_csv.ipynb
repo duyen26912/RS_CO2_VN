{
 "cells": [
  {
   "cell_type": "code",
   "execution_count": null,
   "id": "3c4bed3f",
   "metadata": {},
   "outputs": [
    {
     "name": "stdout",
     "output_type": "stream",
     "text": [
      "✅ Đã xuất file landcover_vietnam.csv thành công!\n"
     ]
    }
   ],
   "source": [
    "import rasterio\n",
    "import pandas as pd\n",
    "import numpy as np\n",
    "\n",
    "# Đường dẫn file .tif\n",
    "tif_path = r\"E:\\RanhGioi\\LandCoverMap\\landcover_vietnam_250m.tif\"\n",
    "\n",
    "# Đọc file raster\n",
    "with rasterio.open(tif_path) as src:\n",
    "    band = src.read(1)  # Đọc band đầu tiên\n",
    "    transform = src.transform\n",
    "\n",
    "    # Tạo lưới tọa độ\n",
    "    rows, cols = np.where(~np.isnan(band))  # loại bỏ pixel trống (nếu có)\n",
    "    xs, ys = rasterio.transform.xy(transform, rows, cols)\n",
    "    values = band[rows, cols]\n",
    "\n",
    "# Tạo DataFrame\n",
    "df = pd.DataFrame({\n",
    "    'longitude': xs,\n",
    "    'latitude': ys,\n",
    "    'landcover_value': values\n",
    "})\n",
    "\n",
    "# Xuất ra CSV\n",
    "df.to_csv(r\"E:\\RanhGioi\\LandCoverMap\\landcover_vietnam_250m.csv\", index=False)\n",
    "\n",
    "print(\"✅ Đã xuất file landcover_vietnam_250m.csv thành công!\")\n"
   ]
  },
  {
   "cell_type": "code",
   "execution_count": 6,
   "id": "30e25073",
   "metadata": {},
   "outputs": [
    {
     "name": "stdout",
     "output_type": "stream",
     "text": [
      "✅ Đã tạo file landcover_value3.csv chỉ chứa các giá trị = 3\n"
     ]
    }
   ],
   "source": [
    "import pandas as pd\n",
    "\n",
    "# Đọc file CSV gốc\n",
    "df = pd.read_csv(r\"E:\\RanhGioi\\LandCoverMap\\landcover_vietnam_250m.csv\")\n",
    "\n",
    "# Lọc giá trị = 3\n",
    "df_filtered = df[df[\"landcover_value\"] == 3]\n",
    "\n",
    "# Xuất ra file mới\n",
    "df_filtered.to_csv(r\"E:\\RanhGioi\\LandCoverMap\\landcover_vietnam_250m_value3.csv\", index=False)\n",
    "\n",
    "print(\"✅ Đã tạo file landcover_value3.csv chỉ chứa các giá trị = 3\")\n"
   ]
  }
 ],
 "metadata": {
  "kernelspec": {
   "display_name": "base",
   "language": "python",
   "name": "python3"
  },
  "language_info": {
   "codemirror_mode": {
    "name": "ipython",
    "version": 3
   },
   "file_extension": ".py",
   "mimetype": "text/x-python",
   "name": "python",
   "nbconvert_exporter": "python",
   "pygments_lexer": "ipython3",
   "version": "3.12.3"
  }
 },
 "nbformat": 4,
 "nbformat_minor": 5
}
