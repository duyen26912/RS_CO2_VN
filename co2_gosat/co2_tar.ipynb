{
 "cells": [
  {
   "cell_type": "markdown",
   "id": "29fd95a7",
   "metadata": {},
   "source": [
    "\n",
    "## GOSAT CO2 Data Downloader - Jupyter Notebook\n",
    "\n",
    "\n"
   ]
  },
  {
   "cell_type": "code",
   "execution_count": 19,
   "id": "ca8396cc",
   "metadata": {},
   "outputs": [],
   "source": [
    "%reload_ext autoreload\n",
    "%autoreload 2"
   ]
  },
  {
   "cell_type": "code",
   "execution_count": 26,
   "id": "c7414e31",
   "metadata": {},
   "outputs": [],
   "source": [
    "import os\n",
    "import pandas as pd\n",
    "from dotenv import load_dotenv\n",
    "from urllib.parse import urlparse"
   ]
  },
  {
   "cell_type": "code",
   "execution_count": 27,
   "id": "4799f2d4",
   "metadata": {},
   "outputs": [
    {
     "data": {
      "text/plain": [
       "True"
      ]
     },
     "execution_count": 27,
     "metadata": {},
     "output_type": "execute_result"
    }
   ],
   "source": [
    "\n",
    "env_path = '.env'\n",
    "load_dotenv()"
   ]
  },
  {
   "cell_type": "code",
   "execution_count": 28,
   "id": "2cfc03cb",
   "metadata": {},
   "outputs": [
    {
     "name": "stdout",
     "output_type": "stream",
     "text": [
      "Username: nguyenduyen.26092003@gmail.com, Password: Duyen26092003@\n"
     ]
    }
   ],
   "source": [
    "from dotenv import load_dotenv\n",
    "import os\n",
    "\n",
    "load_dotenv()\n",
    "USERNAME = os.getenv(\"USERNAME\")\n",
    "PASSWORD = os.getenv(\"PASSWORD\")\n",
    "print(f\"Username: {USERNAME}, Password: {PASSWORD}\")"
   ]
  },
  {
   "cell_type": "code",
   "execution_count": 29,
   "id": "10616a04",
   "metadata": {},
   "outputs": [
    {
     "name": "stderr",
     "output_type": "stream",
     "text": [
      "--2025-06-15 21:14:17--  https://data2.gosat.nies.go.jp/GosatDataArchiveService/usr/auth/login\n",
      "Resolving data2.gosat.nies.go.jp (data2.gosat.nies.go.jp)... 158.210.250.85\n",
      "Connecting to data2.gosat.nies.go.jp (data2.gosat.nies.go.jp)|158.210.250.85|:443... connected.\n",
      "HTTP request sent, awaiting response... 200 200\n",
      "Length: unspecified [text/html]\n",
      "Saving to: 'login'\n",
      "\n",
      "     0K ...                                                    8.29M=0s\n",
      "\n",
      "2025-06-15 21:14:18 (8.29 MB/s) - 'login' saved [3831]\n",
      "\n"
     ]
    }
   ],
   "source": [
    "# check wget is installed\n",
    "! wget https://data2.gosat.nies.go.jp/GosatDataArchiveService/usr/auth/login"
   ]
  },
  {
   "cell_type": "code",
   "execution_count": 30,
   "id": "e3845a91",
   "metadata": {},
   "outputs": [],
   "source": [
    "# setup folders\n",
    "folder_path = 'data'\n",
    "data_file = os.path.join(\n",
    "    folder_path, 'SWIRL2CO2_GU_V03.05.txt')\n",
    "to_folder = os.path.join(folder_path, 'gosat_tar')\n",
    "is_force_download = False\n",
    "\n",
    "# for NASA Earthdata\n",
    "username = os.getenv('USERNAME')\n",
    "password = os.getenv('PASSWORD')"
   ]
  },
  {
   "cell_type": "code",
   "execution_count": 31,
   "id": "9ecedbe4",
   "metadata": {},
   "outputs": [
    {
     "name": "stdout",
     "output_type": "stream",
     "text": [
      "found 191 links\n"
     ]
    }
   ],
   "source": [
    "# preview downloaded links list first\n",
    "df = pd.read_csv(data_file, sep=\" \",header=None)\n",
    "print('found', len(df), 'links')"
   ]
  },
  {
   "cell_type": "code",
   "execution_count": 32,
   "id": "4bce18dc",
   "metadata": {},
   "outputs": [
    {
     "data": {
      "text/html": [
       "<div>\n",
       "<style scoped>\n",
       "    .dataframe tbody tr th:only-of-type {\n",
       "        vertical-align: middle;\n",
       "    }\n",
       "\n",
       "    .dataframe tbody tr th {\n",
       "        vertical-align: top;\n",
       "    }\n",
       "\n",
       "    .dataframe thead th {\n",
       "        text-align: right;\n",
       "    }\n",
       "</style>\n",
       "<table border=\"1\" class=\"dataframe\">\n",
       "  <thead>\n",
       "    <tr style=\"text-align: right;\">\n",
       "      <th></th>\n",
       "      <th>0</th>\n",
       "    </tr>\n",
       "  </thead>\n",
       "  <tbody>\n",
       "    <tr>\n",
       "      <th>0</th>\n",
       "      <td>https://data2.gosat.nies.go.jp/wgetdata/GU/SWIRL2CO2/2009/SWIRL2CO2_200904_V03.05.tar</td>\n",
       "    </tr>\n",
       "    <tr>\n",
       "      <th>1</th>\n",
       "      <td>https://data2.gosat.nies.go.jp/wgetdata/GU/SWIRL2CO2/2009/SWIRL2CO2_200905_V03.05.tar</td>\n",
       "    </tr>\n",
       "    <tr>\n",
       "      <th>2</th>\n",
       "      <td>https://data2.gosat.nies.go.jp/wgetdata/GU/SWIRL2CO2/2009/SWIRL2CO2_200906_V03.05.tar</td>\n",
       "    </tr>\n",
       "    <tr>\n",
       "      <th>3</th>\n",
       "      <td>https://data2.gosat.nies.go.jp/wgetdata/GU/SWIRL2CO2/2009/SWIRL2CO2_200907_V03.05.tar</td>\n",
       "    </tr>\n",
       "    <tr>\n",
       "      <th>4</th>\n",
       "      <td>https://data2.gosat.nies.go.jp/wgetdata/GU/SWIRL2CO2/2009/SWIRL2CO2_200908_V03.05.tar</td>\n",
       "    </tr>\n",
       "    <tr>\n",
       "      <th>5</th>\n",
       "      <td>https://data2.gosat.nies.go.jp/wgetdata/GU/SWIRL2CO2/2009/SWIRL2CO2_200909_V03.05.tar</td>\n",
       "    </tr>\n",
       "    <tr>\n",
       "      <th>6</th>\n",
       "      <td>https://data2.gosat.nies.go.jp/wgetdata/GU/SWIRL2CO2/2009/SWIRL2CO2_200910_V03.05.tar</td>\n",
       "    </tr>\n",
       "    <tr>\n",
       "      <th>7</th>\n",
       "      <td>https://data2.gosat.nies.go.jp/wgetdata/GU/SWIRL2CO2/2009/SWIRL2CO2_200911_V03.05.tar</td>\n",
       "    </tr>\n",
       "    <tr>\n",
       "      <th>8</th>\n",
       "      <td>https://data2.gosat.nies.go.jp/wgetdata/GU/SWIRL2CO2/2009/SWIRL2CO2_200912_V03.05.tar</td>\n",
       "    </tr>\n",
       "    <tr>\n",
       "      <th>9</th>\n",
       "      <td>https://data2.gosat.nies.go.jp/wgetdata/GU/SWIRL2CO2/2010/SWIRL2CO2_201001_V03.05.tar</td>\n",
       "    </tr>\n",
       "  </tbody>\n",
       "</table>\n",
       "</div>"
      ],
      "text/plain": [
       "                                                                                       0\n",
       "0  https://data2.gosat.nies.go.jp/wgetdata/GU/SWIRL2CO2/2009/SWIRL2CO2_200904_V03.05.tar\n",
       "1  https://data2.gosat.nies.go.jp/wgetdata/GU/SWIRL2CO2/2009/SWIRL2CO2_200905_V03.05.tar\n",
       "2  https://data2.gosat.nies.go.jp/wgetdata/GU/SWIRL2CO2/2009/SWIRL2CO2_200906_V03.05.tar\n",
       "3  https://data2.gosat.nies.go.jp/wgetdata/GU/SWIRL2CO2/2009/SWIRL2CO2_200907_V03.05.tar\n",
       "4  https://data2.gosat.nies.go.jp/wgetdata/GU/SWIRL2CO2/2009/SWIRL2CO2_200908_V03.05.tar\n",
       "5  https://data2.gosat.nies.go.jp/wgetdata/GU/SWIRL2CO2/2009/SWIRL2CO2_200909_V03.05.tar\n",
       "6  https://data2.gosat.nies.go.jp/wgetdata/GU/SWIRL2CO2/2009/SWIRL2CO2_200910_V03.05.tar\n",
       "7  https://data2.gosat.nies.go.jp/wgetdata/GU/SWIRL2CO2/2009/SWIRL2CO2_200911_V03.05.tar\n",
       "8  https://data2.gosat.nies.go.jp/wgetdata/GU/SWIRL2CO2/2009/SWIRL2CO2_200912_V03.05.tar\n",
       "9  https://data2.gosat.nies.go.jp/wgetdata/GU/SWIRL2CO2/2010/SWIRL2CO2_201001_V03.05.tar"
      ]
     },
     "execution_count": 32,
     "metadata": {},
     "output_type": "execute_result"
    }
   ],
   "source": [
    "pd.set_option('display.max_colwidth', 200)\n",
    "df.head(10)"
   ]
  },
  {
   "cell_type": "code",
   "execution_count": 37,
   "id": "cbc75877",
   "metadata": {},
   "outputs": [],
   "source": [
    "# function to download files from urls in a text file\n",
    "def download_files(data_file, username, password, to_folder):\n",
    "\n",
    "    with open(data_file, \"r\") as data_file:\n",
    "        for line in data_file:\n",
    "            url = line.strip()\n",
    "            filename = os.path.basename(urlparse(url).path) # method only works if URL is to a file (cf. a REST endpoint)\n",
    "            if is_force_download or not os.path.isfile(to_folder+'/'+filename):\n",
    "                print (\"Downloading file: \" + url)\n",
    "                ! wget -i $data_file --http-user=$username --http-passwd=$password \n",
    "            else:\n",
    "                print (\"File is already downloaded: \" + filename)\n"
   ]
  },
  {
   "cell_type": "code",
   "execution_count": 38,
   "id": "8fefdc95",
   "metadata": {},
   "outputs": [
    {
     "name": "stdout",
     "output_type": "stream",
     "text": [
      "Downloading file: https://data2.gosat.nies.go.jp/wgetdata/GU/SWIRL2CO2/2009/SWIRL2CO2_200904_V03.05.tar\n",
      "Downloading file: https://data2.gosat.nies.go.jp/wgetdata/GU/SWIRL2CO2/2009/SWIRL2CO2_200905_V03.05.tar\n"
     ]
    },
    {
     "name": "stderr",
     "output_type": "stream",
     "text": [
      "The system cannot find the file specified.\n"
     ]
    },
    {
     "name": "stdout",
     "output_type": "stream",
     "text": [
      "Downloading file: https://data2.gosat.nies.go.jp/wgetdata/GU/SWIRL2CO2/2009/SWIRL2CO2_200906_V03.05.tar\n"
     ]
    },
    {
     "name": "stderr",
     "output_type": "stream",
     "text": [
      "The system cannot find the file specified.\n"
     ]
    },
    {
     "name": "stdout",
     "output_type": "stream",
     "text": [
      "Downloading file: https://data2.gosat.nies.go.jp/wgetdata/GU/SWIRL2CO2/2009/SWIRL2CO2_200907_V03.05.tar\n"
     ]
    },
    {
     "name": "stderr",
     "output_type": "stream",
     "text": [
      "The system cannot find the file specified.\n"
     ]
    },
    {
     "name": "stdout",
     "output_type": "stream",
     "text": [
      "Downloading file: https://data2.gosat.nies.go.jp/wgetdata/GU/SWIRL2CO2/2009/SWIRL2CO2_200908_V03.05.tar\n"
     ]
    },
    {
     "name": "stderr",
     "output_type": "stream",
     "text": [
      "The system cannot find the file specified.\n"
     ]
    },
    {
     "name": "stdout",
     "output_type": "stream",
     "text": [
      "Downloading file: https://data2.gosat.nies.go.jp/wgetdata/GU/SWIRL2CO2/2009/SWIRL2CO2_200909_V03.05.tar\n"
     ]
    },
    {
     "name": "stderr",
     "output_type": "stream",
     "text": [
      "The system cannot find the file specified.\n",
      "The system cannot find the file specified."
     ]
    },
    {
     "name": "stdout",
     "output_type": "stream",
     "text": [
      "Downloading file: https://data2.gosat.nies.go.jp/wgetdata/GU/SWIRL2CO2/2009/SWIRL2CO2_200910_V03.05.tar\n"
     ]
    },
    {
     "name": "stderr",
     "output_type": "stream",
     "text": [
      "\n"
     ]
    },
    {
     "name": "stdout",
     "output_type": "stream",
     "text": [
      "Downloading file: https://data2.gosat.nies.go.jp/wgetdata/GU/SWIRL2CO2/2009/SWIRL2CO2_200911_V03.05.tar\n"
     ]
    },
    {
     "name": "stderr",
     "output_type": "stream",
     "text": [
      "The system cannot find the file specified.\n"
     ]
    },
    {
     "name": "stdout",
     "output_type": "stream",
     "text": [
      "Downloading file: https://data2.gosat.nies.go.jp/wgetdata/GU/SWIRL2CO2/2009/SWIRL2CO2_200912_V03.05.tar\n"
     ]
    },
    {
     "name": "stderr",
     "output_type": "stream",
     "text": [
      "The system cannot find the file specified.\n"
     ]
    },
    {
     "name": "stdout",
     "output_type": "stream",
     "text": [
      "Downloading file: https://data2.gosat.nies.go.jp/wgetdata/GU/SWIRL2CO2/2010/SWIRL2CO2_201001_V03.05.tar\n"
     ]
    },
    {
     "name": "stderr",
     "output_type": "stream",
     "text": [
      "The system cannot find the file specified.\n"
     ]
    },
    {
     "name": "stdout",
     "output_type": "stream",
     "text": [
      "Downloading file: https://data2.gosat.nies.go.jp/wgetdata/GU/SWIRL2CO2/2010/SWIRL2CO2_201002_V03.05.tar\n"
     ]
    },
    {
     "name": "stderr",
     "output_type": "stream",
     "text": [
      "The system cannot find the file specified.\n"
     ]
    },
    {
     "name": "stdout",
     "output_type": "stream",
     "text": [
      "Downloading file: https://data2.gosat.nies.go.jp/wgetdata/GU/SWIRL2CO2/2010/SWIRL2CO2_201003_V03.05.tar\n"
     ]
    },
    {
     "name": "stderr",
     "output_type": "stream",
     "text": [
      "The system cannot find the file specified.\n"
     ]
    },
    {
     "name": "stdout",
     "output_type": "stream",
     "text": [
      "Downloading file: https://data2.gosat.nies.go.jp/wgetdata/GU/SWIRL2CO2/2010/SWIRL2CO2_201004_V03.05.tar\n"
     ]
    },
    {
     "name": "stderr",
     "output_type": "stream",
     "text": [
      "The system cannot find the file specified.\n",
      "The system cannot find the file specified.\n"
     ]
    },
    {
     "name": "stdout",
     "output_type": "stream",
     "text": [
      "Downloading file: https://data2.gosat.nies.go.jp/wgetdata/GU/SWIRL2CO2/2010/SWIRL2CO2_201005_V03.05.tar\n"
     ]
    },
    {
     "name": "stderr",
     "output_type": "stream",
     "text": [
      "The system cannot find the file specified."
     ]
    },
    {
     "name": "stdout",
     "output_type": "stream",
     "text": [
      "Downloading file: https://data2.gosat.nies.go.jp/wgetdata/GU/SWIRL2CO2/2010/SWIRL2CO2_201006_V03.05.tar\n"
     ]
    },
    {
     "name": "stderr",
     "output_type": "stream",
     "text": [
      "\n",
      "The system cannot find the file specified.\n"
     ]
    },
    {
     "name": "stdout",
     "output_type": "stream",
     "text": [
      "Downloading file: https://data2.gosat.nies.go.jp/wgetdata/GU/SWIRL2CO2/2010/SWIRL2CO2_201007_V03.05.tar\n"
     ]
    },
    {
     "name": "stderr",
     "output_type": "stream",
     "text": [
      "The system cannot find the file specified."
     ]
    },
    {
     "name": "stdout",
     "output_type": "stream",
     "text": [
      "Downloading file: https://data2.gosat.nies.go.jp/wgetdata/GU/SWIRL2CO2/2010/SWIRL2CO2_201008_V03.05.tar\n"
     ]
    },
    {
     "name": "stderr",
     "output_type": "stream",
     "text": [
      "\n",
      "The system cannot find the file specified.\n"
     ]
    },
    {
     "name": "stdout",
     "output_type": "stream",
     "text": [
      "Downloading file: https://data2.gosat.nies.go.jp/wgetdata/GU/SWIRL2CO2/2010/SWIRL2CO2_201009_V03.05.tar\n"
     ]
    },
    {
     "name": "stderr",
     "output_type": "stream",
     "text": [
      "The system cannot find the file specified.\n"
     ]
    },
    {
     "name": "stdout",
     "output_type": "stream",
     "text": [
      "Downloading file: https://data2.gosat.nies.go.jp/wgetdata/GU/SWIRL2CO2/2010/SWIRL2CO2_201010_V03.05.tar\n"
     ]
    },
    {
     "name": "stderr",
     "output_type": "stream",
     "text": [
      "The system cannot find the file specified."
     ]
    },
    {
     "name": "stdout",
     "output_type": "stream",
     "text": [
      "Downloading file: https://data2.gosat.nies.go.jp/wgetdata/GU/SWIRL2CO2/2010/SWIRL2CO2_201011_V03.05.tar\n"
     ]
    },
    {
     "name": "stderr",
     "output_type": "stream",
     "text": [
      "\n"
     ]
    },
    {
     "name": "stdout",
     "output_type": "stream",
     "text": [
      "Downloading file: https://data2.gosat.nies.go.jp/wgetdata/GU/SWIRL2CO2/2010/SWIRL2CO2_201012_V03.05.tar\n"
     ]
    },
    {
     "name": "stderr",
     "output_type": "stream",
     "text": [
      "The system cannot find the file specified.\n",
      "The system cannot find the file specified.\n"
     ]
    },
    {
     "name": "stdout",
     "output_type": "stream",
     "text": [
      "Downloading file: https://data2.gosat.nies.go.jp/wgetdata/GU/SWIRL2CO2/2011/SWIRL2CO2_201101_V03.05.tar\n",
      "Downloading file: https://data2.gosat.nies.go.jp/wgetdata/GU/SWIRL2CO2/2011/SWIRL2CO2_201102_V03.05.tar\n"
     ]
    },
    {
     "name": "stderr",
     "output_type": "stream",
     "text": [
      "The system cannot find the file specified.\n",
      "The system cannot find the file specified.\n"
     ]
    },
    {
     "name": "stdout",
     "output_type": "stream",
     "text": [
      "Downloading file: https://data2.gosat.nies.go.jp/wgetdata/GU/SWIRL2CO2/2011/SWIRL2CO2_201103_V03.05.tar\n"
     ]
    },
    {
     "name": "stderr",
     "output_type": "stream",
     "text": [
      "The system cannot find the file specified.\n"
     ]
    },
    {
     "name": "stdout",
     "output_type": "stream",
     "text": [
      "Downloading file: https://data2.gosat.nies.go.jp/wgetdata/GU/SWIRL2CO2/2011/SWIRL2CO2_201104_V03.05.tar\n"
     ]
    },
    {
     "name": "stderr",
     "output_type": "stream",
     "text": [
      "The system cannot find the file specified."
     ]
    },
    {
     "name": "stdout",
     "output_type": "stream",
     "text": [
      "Downloading file: https://data2.gosat.nies.go.jp/wgetdata/GU/SWIRL2CO2/2011/SWIRL2CO2_201105_V03.05.tar\n"
     ]
    },
    {
     "name": "stderr",
     "output_type": "stream",
     "text": [
      "\n",
      "The system cannot find the file specified.\n"
     ]
    },
    {
     "name": "stdout",
     "output_type": "stream",
     "text": [
      "Downloading file: https://data2.gosat.nies.go.jp/wgetdata/GU/SWIRL2CO2/2011/SWIRL2CO2_201106_V03.05.tar\n"
     ]
    },
    {
     "name": "stderr",
     "output_type": "stream",
     "text": [
      "The system cannot find the file specified.\n"
     ]
    },
    {
     "name": "stdout",
     "output_type": "stream",
     "text": [
      "Downloading file: https://data2.gosat.nies.go.jp/wgetdata/GU/SWIRL2CO2/2011/SWIRL2CO2_201107_V03.05.tar\n"
     ]
    },
    {
     "name": "stderr",
     "output_type": "stream",
     "text": [
      "The system cannot find the file specified."
     ]
    },
    {
     "name": "stdout",
     "output_type": "stream",
     "text": [
      "Downloading file: https://data2.gosat.nies.go.jp/wgetdata/GU/SWIRL2CO2/2011/SWIRL2CO2_201108_V03.05.tar\n"
     ]
    },
    {
     "name": "stderr",
     "output_type": "stream",
     "text": [
      "\n",
      "The system cannot find the file specified.\n"
     ]
    },
    {
     "name": "stdout",
     "output_type": "stream",
     "text": [
      "Downloading file: https://data2.gosat.nies.go.jp/wgetdata/GU/SWIRL2CO2/2011/SWIRL2CO2_201109_V03.05.tar\n",
      "Downloading file: https://data2.gosat.nies.go.jp/wgetdata/GU/SWIRL2CO2/2011/SWIRL2CO2_201110_V03.05.tar\n"
     ]
    },
    {
     "name": "stderr",
     "output_type": "stream",
     "text": [
      "The system cannot find the file specified.\n",
      "The system cannot find the file specified."
     ]
    },
    {
     "name": "stdout",
     "output_type": "stream",
     "text": [
      "Downloading file: https://data2.gosat.nies.go.jp/wgetdata/GU/SWIRL2CO2/2011/SWIRL2CO2_201111_V03.05.tar\n"
     ]
    },
    {
     "name": "stderr",
     "output_type": "stream",
     "text": [
      "\n"
     ]
    },
    {
     "name": "stdout",
     "output_type": "stream",
     "text": [
      "Downloading file: https://data2.gosat.nies.go.jp/wgetdata/GU/SWIRL2CO2/2011/SWIRL2CO2_201112_V03.05.tar\n"
     ]
    },
    {
     "name": "stderr",
     "output_type": "stream",
     "text": [
      "The system cannot find the file specified.\n",
      "The system cannot find the file specified.\n"
     ]
    },
    {
     "name": "stdout",
     "output_type": "stream",
     "text": [
      "Downloading file: https://data2.gosat.nies.go.jp/wgetdata/GU/SWIRL2CO2/2012/SWIRL2CO2_201201_V03.05.tar\n"
     ]
    },
    {
     "name": "stderr",
     "output_type": "stream",
     "text": [
      "The system cannot find the file specified.\n"
     ]
    },
    {
     "name": "stdout",
     "output_type": "stream",
     "text": [
      "Downloading file: https://data2.gosat.nies.go.jp/wgetdata/GU/SWIRL2CO2/2012/SWIRL2CO2_201202_V03.05.tar\n"
     ]
    },
    {
     "name": "stderr",
     "output_type": "stream",
     "text": [
      "The system cannot find the file specified.\n"
     ]
    },
    {
     "name": "stdout",
     "output_type": "stream",
     "text": [
      "Downloading file: https://data2.gosat.nies.go.jp/wgetdata/GU/SWIRL2CO2/2012/SWIRL2CO2_201203_V03.05.tar\n"
     ]
    },
    {
     "name": "stderr",
     "output_type": "stream",
     "text": [
      "The system cannot find the file specified.\n"
     ]
    },
    {
     "name": "stdout",
     "output_type": "stream",
     "text": [
      "Downloading file: https://data2.gosat.nies.go.jp/wgetdata/GU/SWIRL2CO2/2012/SWIRL2CO2_201204_V03.05.tar\n",
      "Downloading file: https://data2.gosat.nies.go.jp/wgetdata/GU/SWIRL2CO2/2012/SWIRL2CO2_201205_V03.05.tar\n"
     ]
    },
    {
     "name": "stderr",
     "output_type": "stream",
     "text": [
      "The system cannot find the file specified.\n",
      "The system cannot find the file specified."
     ]
    },
    {
     "name": "stdout",
     "output_type": "stream",
     "text": [
      "Downloading file: https://data2.gosat.nies.go.jp/wgetdata/GU/SWIRL2CO2/2012/SWIRL2CO2_201206_V03.05.tar\n"
     ]
    },
    {
     "name": "stderr",
     "output_type": "stream",
     "text": [
      "\n",
      "The system cannot find the file specified.\n"
     ]
    },
    {
     "name": "stdout",
     "output_type": "stream",
     "text": [
      "Downloading file: https://data2.gosat.nies.go.jp/wgetdata/GU/SWIRL2CO2/2012/SWIRL2CO2_201207_V03.05.tar\n",
      "Downloading file: https://data2.gosat.nies.go.jp/wgetdata/GU/SWIRL2CO2/2012/SWIRL2CO2_201208_V03.05.tar\n"
     ]
    },
    {
     "name": "stderr",
     "output_type": "stream",
     "text": [
      "The system cannot find the file specified.\n",
      "The system cannot find the file specified.\n"
     ]
    },
    {
     "name": "stdout",
     "output_type": "stream",
     "text": [
      "Downloading file: https://data2.gosat.nies.go.jp/wgetdata/GU/SWIRL2CO2/2012/SWIRL2CO2_201209_V03.05.tar\n"
     ]
    },
    {
     "name": "stderr",
     "output_type": "stream",
     "text": [
      "The system cannot find the file specified."
     ]
    },
    {
     "name": "stdout",
     "output_type": "stream",
     "text": [
      "Downloading file: https://data2.gosat.nies.go.jp/wgetdata/GU/SWIRL2CO2/2012/SWIRL2CO2_201210_V03.05.tar\n"
     ]
    },
    {
     "name": "stderr",
     "output_type": "stream",
     "text": [
      "\n"
     ]
    },
    {
     "name": "stdout",
     "output_type": "stream",
     "text": [
      "Downloading file: https://data2.gosat.nies.go.jp/wgetdata/GU/SWIRL2CO2/2012/SWIRL2CO2_201211_V03.05.tar\n"
     ]
    },
    {
     "name": "stderr",
     "output_type": "stream",
     "text": [
      "The system cannot find the file specified.\n",
      "The system cannot find the file specified."
     ]
    },
    {
     "name": "stdout",
     "output_type": "stream",
     "text": [
      "Downloading file: https://data2.gosat.nies.go.jp/wgetdata/GU/SWIRL2CO2/2012/SWIRL2CO2_201212_V03.05.tar\n"
     ]
    },
    {
     "name": "stderr",
     "output_type": "stream",
     "text": [
      "\n",
      "The system cannot find the file specified."
     ]
    },
    {
     "name": "stdout",
     "output_type": "stream",
     "text": [
      "Downloading file: https://data2.gosat.nies.go.jp/wgetdata/GU/SWIRL2CO2/2013/SWIRL2CO2_201301_V03.05.tar\n"
     ]
    },
    {
     "name": "stderr",
     "output_type": "stream",
     "text": [
      "\n",
      "The system cannot find the file specified."
     ]
    },
    {
     "name": "stdout",
     "output_type": "stream",
     "text": [
      "Downloading file: https://data2.gosat.nies.go.jp/wgetdata/GU/SWIRL2CO2/2013/SWIRL2CO2_201302_V03.05.tar\n"
     ]
    },
    {
     "name": "stderr",
     "output_type": "stream",
     "text": [
      "\n",
      "The system cannot find the file specified."
     ]
    },
    {
     "name": "stdout",
     "output_type": "stream",
     "text": [
      "Downloading file: https://data2.gosat.nies.go.jp/wgetdata/GU/SWIRL2CO2/2013/SWIRL2CO2_201303_V03.05.tar\n"
     ]
    },
    {
     "name": "stderr",
     "output_type": "stream",
     "text": [
      "\n",
      "The system cannot find the file specified."
     ]
    },
    {
     "name": "stdout",
     "output_type": "stream",
     "text": [
      "Downloading file: https://data2.gosat.nies.go.jp/wgetdata/GU/SWIRL2CO2/2013/SWIRL2CO2_201304_V03.05.tar\n"
     ]
    },
    {
     "name": "stderr",
     "output_type": "stream",
     "text": [
      "\n"
     ]
    },
    {
     "name": "stdout",
     "output_type": "stream",
     "text": [
      "Downloading file: https://data2.gosat.nies.go.jp/wgetdata/GU/SWIRL2CO2/2013/SWIRL2CO2_201305_V03.05.tar\n"
     ]
    },
    {
     "name": "stderr",
     "output_type": "stream",
     "text": [
      "The system cannot find the file specified.\n",
      "The system cannot find the file specified.\n"
     ]
    },
    {
     "name": "stdout",
     "output_type": "stream",
     "text": [
      "Downloading file: https://data2.gosat.nies.go.jp/wgetdata/GU/SWIRL2CO2/2013/SWIRL2CO2_201306_V03.05.tar\n",
      "Downloading file: https://data2.gosat.nies.go.jp/wgetdata/GU/SWIRL2CO2/2013/SWIRL2CO2_201307_V03.05.tar\n"
     ]
    },
    {
     "name": "stderr",
     "output_type": "stream",
     "text": [
      "The system cannot find the file specified.\n",
      "The system cannot find the file specified.\n"
     ]
    },
    {
     "name": "stdout",
     "output_type": "stream",
     "text": [
      "Downloading file: https://data2.gosat.nies.go.jp/wgetdata/GU/SWIRL2CO2/2013/SWIRL2CO2_201308_V03.05.tar\n"
     ]
    },
    {
     "name": "stderr",
     "output_type": "stream",
     "text": [
      "The system cannot find the file specified.\n"
     ]
    },
    {
     "name": "stdout",
     "output_type": "stream",
     "text": [
      "Downloading file: https://data2.gosat.nies.go.jp/wgetdata/GU/SWIRL2CO2/2013/SWIRL2CO2_201309_V03.05.tar\n"
     ]
    },
    {
     "name": "stderr",
     "output_type": "stream",
     "text": [
      "The system cannot find the file specified."
     ]
    },
    {
     "name": "stdout",
     "output_type": "stream",
     "text": [
      "Downloading file: https://data2.gosat.nies.go.jp/wgetdata/GU/SWIRL2CO2/2013/SWIRL2CO2_201310_V03.05.tar\n"
     ]
    },
    {
     "name": "stderr",
     "output_type": "stream",
     "text": [
      "\n",
      "The system cannot find the file specified.\n"
     ]
    },
    {
     "name": "stdout",
     "output_type": "stream",
     "text": [
      "Downloading file: https://data2.gosat.nies.go.jp/wgetdata/GU/SWIRL2CO2/2013/SWIRL2CO2_201311_V03.05.tar\n",
      "Downloading file: https://data2.gosat.nies.go.jp/wgetdata/GU/SWIRL2CO2/2013/SWIRL2CO2_201312_V03.05.tar\n"
     ]
    },
    {
     "name": "stderr",
     "output_type": "stream",
     "text": [
      "The system cannot find the file specified.\n",
      "The system cannot find the file specified.\n"
     ]
    },
    {
     "name": "stdout",
     "output_type": "stream",
     "text": [
      "Downloading file: https://data2.gosat.nies.go.jp/wgetdata/GU/SWIRL2CO2/2014/SWIRL2CO2_201401_V03.05.tar\n"
     ]
    },
    {
     "name": "stderr",
     "output_type": "stream",
     "text": [
      "The system cannot find the file specified.\n"
     ]
    },
    {
     "name": "stdout",
     "output_type": "stream",
     "text": [
      "Downloading file: https://data2.gosat.nies.go.jp/wgetdata/GU/SWIRL2CO2/2014/SWIRL2CO2_201402_V03.05.tar\n",
      "Downloading file: https://data2.gosat.nies.go.jp/wgetdata/GU/SWIRL2CO2/2014/SWIRL2CO2_201403_V03.05.tar\n"
     ]
    },
    {
     "name": "stderr",
     "output_type": "stream",
     "text": [
      "The system cannot find the file specified.\n"
     ]
    },
    {
     "name": "stdout",
     "output_type": "stream",
     "text": [
      "Downloading file: https://data2.gosat.nies.go.jp/wgetdata/GU/SWIRL2CO2/2014/SWIRL2CO2_201404_V03.05.tar\n"
     ]
    },
    {
     "name": "stderr",
     "output_type": "stream",
     "text": [
      "The system cannot find the file specified.\n"
     ]
    },
    {
     "name": "stdout",
     "output_type": "stream",
     "text": [
      "Downloading file: https://data2.gosat.nies.go.jp/wgetdata/GU/SWIRL2CO2/2014/SWIRL2CO2_201405_V03.05.tar\n"
     ]
    },
    {
     "name": "stderr",
     "output_type": "stream",
     "text": [
      "The system cannot find the file specified.\n"
     ]
    },
    {
     "name": "stdout",
     "output_type": "stream",
     "text": [
      "Downloading file: https://data2.gosat.nies.go.jp/wgetdata/GU/SWIRL2CO2/2014/SWIRL2CO2_201406_V03.05.tar\n"
     ]
    },
    {
     "name": "stderr",
     "output_type": "stream",
     "text": [
      "The system cannot find the file specified.\n"
     ]
    },
    {
     "name": "stdout",
     "output_type": "stream",
     "text": [
      "Downloading file: https://data2.gosat.nies.go.jp/wgetdata/GU/SWIRL2CO2/2014/SWIRL2CO2_201407_V03.05.tar\n"
     ]
    },
    {
     "name": "stderr",
     "output_type": "stream",
     "text": [
      "The system cannot find the file specified.\n"
     ]
    },
    {
     "name": "stdout",
     "output_type": "stream",
     "text": [
      "Downloading file: https://data2.gosat.nies.go.jp/wgetdata/GU/SWIRL2CO2/2014/SWIRL2CO2_201408_V03.05.tar\n"
     ]
    },
    {
     "name": "stderr",
     "output_type": "stream",
     "text": [
      "The system cannot find the file specified.\n"
     ]
    },
    {
     "name": "stdout",
     "output_type": "stream",
     "text": [
      "Downloading file: https://data2.gosat.nies.go.jp/wgetdata/GU/SWIRL2CO2/2014/SWIRL2CO2_201409_V03.05.tar\n"
     ]
    },
    {
     "name": "stderr",
     "output_type": "stream",
     "text": [
      "The system cannot find the file specified.\n",
      "The system cannot find the file specified."
     ]
    },
    {
     "name": "stdout",
     "output_type": "stream",
     "text": [
      "Downloading file: https://data2.gosat.nies.go.jp/wgetdata/GU/SWIRL2CO2/2014/SWIRL2CO2_201410_V03.05.tar\n"
     ]
    },
    {
     "name": "stderr",
     "output_type": "stream",
     "text": [
      "\n"
     ]
    },
    {
     "name": "stdout",
     "output_type": "stream",
     "text": [
      "Downloading file: https://data2.gosat.nies.go.jp/wgetdata/GU/SWIRL2CO2/2014/SWIRL2CO2_201411_V03.05.tar\n"
     ]
    },
    {
     "name": "stderr",
     "output_type": "stream",
     "text": [
      "The system cannot find the file specified.\n"
     ]
    },
    {
     "name": "stdout",
     "output_type": "stream",
     "text": [
      "Downloading file: https://data2.gosat.nies.go.jp/wgetdata/GU/SWIRL2CO2/2014/SWIRL2CO2_201412_V03.05.tar\n"
     ]
    },
    {
     "name": "stderr",
     "output_type": "stream",
     "text": [
      "The system cannot find the file specified.\n",
      "The system cannot find the file specified."
     ]
    },
    {
     "name": "stdout",
     "output_type": "stream",
     "text": [
      "Downloading file: https://data2.gosat.nies.go.jp/wgetdata/GU/SWIRL2CO2/2015/SWIRL2CO2_201502_V03.05.tar\n"
     ]
    },
    {
     "name": "stderr",
     "output_type": "stream",
     "text": [
      "\n"
     ]
    },
    {
     "name": "stdout",
     "output_type": "stream",
     "text": [
      "Downloading file: https://data2.gosat.nies.go.jp/wgetdata/GU/SWIRL2CO2/2015/SWIRL2CO2_201503_V03.05.tar\n"
     ]
    },
    {
     "name": "stderr",
     "output_type": "stream",
     "text": [
      "The system cannot find the file specified.\n",
      "The system cannot find the file specified.\n"
     ]
    },
    {
     "name": "stdout",
     "output_type": "stream",
     "text": [
      "Downloading file: https://data2.gosat.nies.go.jp/wgetdata/GU/SWIRL2CO2/2015/SWIRL2CO2_201504_V03.05.tar\n"
     ]
    },
    {
     "name": "stderr",
     "output_type": "stream",
     "text": [
      "The system cannot find the file specified."
     ]
    },
    {
     "name": "stdout",
     "output_type": "stream",
     "text": [
      "Downloading file: https://data2.gosat.nies.go.jp/wgetdata/GU/SWIRL2CO2/2015/SWIRL2CO2_201505_V03.05.tar\n"
     ]
    },
    {
     "name": "stderr",
     "output_type": "stream",
     "text": [
      "\n",
      "The system cannot find the file specified."
     ]
    },
    {
     "name": "stdout",
     "output_type": "stream",
     "text": [
      "Downloading file: https://data2.gosat.nies.go.jp/wgetdata/GU/SWIRL2CO2/2015/SWIRL2CO2_201506_V03.05.tar\n"
     ]
    },
    {
     "name": "stderr",
     "output_type": "stream",
     "text": [
      "\n",
      "The system cannot find the file specified."
     ]
    },
    {
     "name": "stdout",
     "output_type": "stream",
     "text": [
      "Downloading file: https://data2.gosat.nies.go.jp/wgetdata/GU/SWIRL2CO2/2015/SWIRL2CO2_201507_V03.05.tar\n"
     ]
    },
    {
     "name": "stderr",
     "output_type": "stream",
     "text": [
      "\n"
     ]
    },
    {
     "name": "stdout",
     "output_type": "stream",
     "text": [
      "Downloading file: https://data2.gosat.nies.go.jp/wgetdata/GU/SWIRL2CO2/2015/SWIRL2CO2_201508_V03.05.tar\n"
     ]
    },
    {
     "name": "stderr",
     "output_type": "stream",
     "text": [
      "The system cannot find the file specified.\n"
     ]
    },
    {
     "name": "stdout",
     "output_type": "stream",
     "text": [
      "Downloading file: https://data2.gosat.nies.go.jp/wgetdata/GU/SWIRL2CO2/2015/SWIRL2CO2_201509_V03.05.tar\n"
     ]
    },
    {
     "name": "stderr",
     "output_type": "stream",
     "text": [
      "The system cannot find the file specified.\n"
     ]
    },
    {
     "name": "stdout",
     "output_type": "stream",
     "text": [
      "Downloading file: https://data2.gosat.nies.go.jp/wgetdata/GU/SWIRL2CO2/2015/SWIRL2CO2_201510_V03.05.tar\n"
     ]
    },
    {
     "name": "stderr",
     "output_type": "stream",
     "text": [
      "The system cannot find the file specified.\n",
      "The system cannot find the file specified.\n"
     ]
    },
    {
     "name": "stdout",
     "output_type": "stream",
     "text": [
      "Downloading file: https://data2.gosat.nies.go.jp/wgetdata/GU/SWIRL2CO2/2015/SWIRL2CO2_201511_V03.05.tar\n"
     ]
    },
    {
     "name": "stderr",
     "output_type": "stream",
     "text": [
      "The system cannot find the file specified.\n"
     ]
    },
    {
     "name": "stdout",
     "output_type": "stream",
     "text": [
      "Downloading file: https://data2.gosat.nies.go.jp/wgetdata/GU/SWIRL2CO2/2015/SWIRL2CO2_201512_V03.05.tar\n",
      "Downloading file: https://data2.gosat.nies.go.jp/wgetdata/GU/SWIRL2CO2/2016/SWIRL2CO2_201601_V03.05.tar\n"
     ]
    },
    {
     "name": "stderr",
     "output_type": "stream",
     "text": [
      "The system cannot find the file specified.\n",
      "The system cannot find the file specified."
     ]
    },
    {
     "name": "stdout",
     "output_type": "stream",
     "text": [
      "Downloading file: https://data2.gosat.nies.go.jp/wgetdata/GU/SWIRL2CO2/2016/SWIRL2CO2_201602_V03.05.tar\n"
     ]
    },
    {
     "name": "stderr",
     "output_type": "stream",
     "text": [
      "\n",
      "The system cannot find the file specified.\n"
     ]
    },
    {
     "name": "stdout",
     "output_type": "stream",
     "text": [
      "Downloading file: https://data2.gosat.nies.go.jp/wgetdata/GU/SWIRL2CO2/2016/SWIRL2CO2_201603_V03.05.tar\n"
     ]
    },
    {
     "name": "stderr",
     "output_type": "stream",
     "text": [
      "The system cannot find the file specified.\n"
     ]
    },
    {
     "name": "stdout",
     "output_type": "stream",
     "text": [
      "Downloading file: https://data2.gosat.nies.go.jp/wgetdata/GU/SWIRL2CO2/2016/SWIRL2CO2_201604_V03.05.tar\n"
     ]
    },
    {
     "name": "stderr",
     "output_type": "stream",
     "text": [
      "The system cannot find the file specified.\n"
     ]
    },
    {
     "name": "stdout",
     "output_type": "stream",
     "text": [
      "Downloading file: https://data2.gosat.nies.go.jp/wgetdata/GU/SWIRL2CO2/2016/SWIRL2CO2_201605_V03.05.tar\n"
     ]
    },
    {
     "name": "stderr",
     "output_type": "stream",
     "text": [
      "The system cannot find the file specified."
     ]
    },
    {
     "name": "stdout",
     "output_type": "stream",
     "text": [
      "Downloading file: https://data2.gosat.nies.go.jp/wgetdata/GU/SWIRL2CO2/2016/SWIRL2CO2_201606_V03.05.tar\n"
     ]
    },
    {
     "name": "stderr",
     "output_type": "stream",
     "text": [
      "\n"
     ]
    },
    {
     "name": "stdout",
     "output_type": "stream",
     "text": [
      "Downloading file: https://data2.gosat.nies.go.jp/wgetdata/GU/SWIRL2CO2/2016/SWIRL2CO2_201607_V03.05.tar\n"
     ]
    },
    {
     "name": "stderr",
     "output_type": "stream",
     "text": [
      "The system cannot find the file specified.\n",
      "The system cannot find the file specified.\n"
     ]
    },
    {
     "name": "stdout",
     "output_type": "stream",
     "text": [
      "Downloading file: https://data2.gosat.nies.go.jp/wgetdata/GU/SWIRL2CO2/2016/SWIRL2CO2_201608_V03.05.tar\n"
     ]
    },
    {
     "name": "stderr",
     "output_type": "stream",
     "text": [
      "The system cannot find the file specified.\n"
     ]
    },
    {
     "name": "stdout",
     "output_type": "stream",
     "text": [
      "Downloading file: https://data2.gosat.nies.go.jp/wgetdata/GU/SWIRL2CO2/2016/SWIRL2CO2_201609_V03.05.tar\n"
     ]
    },
    {
     "name": "stderr",
     "output_type": "stream",
     "text": [
      "The system cannot find the file specified.\n"
     ]
    },
    {
     "name": "stdout",
     "output_type": "stream",
     "text": [
      "Downloading file: https://data2.gosat.nies.go.jp/wgetdata/GU/SWIRL2CO2/2016/SWIRL2CO2_201610_V03.05.tar\n",
      "Downloading file: https://data2.gosat.nies.go.jp/wgetdata/GU/SWIRL2CO2/2016/SWIRL2CO2_201611_V03.05.tar\n"
     ]
    },
    {
     "name": "stderr",
     "output_type": "stream",
     "text": [
      "The system cannot find the file specified.\n",
      "The system cannot find the file specified.\n"
     ]
    },
    {
     "name": "stdout",
     "output_type": "stream",
     "text": [
      "Downloading file: https://data2.gosat.nies.go.jp/wgetdata/GU/SWIRL2CO2/2016/SWIRL2CO2_201612_V03.05.tar\n"
     ]
    },
    {
     "name": "stderr",
     "output_type": "stream",
     "text": [
      "The system cannot find the file specified."
     ]
    },
    {
     "name": "stdout",
     "output_type": "stream",
     "text": [
      "Downloading file: https://data2.gosat.nies.go.jp/wgetdata/GU/SWIRL2CO2/2017/SWIRL2CO2_201701_V03.05.tar\n"
     ]
    },
    {
     "name": "stderr",
     "output_type": "stream",
     "text": [
      "\n",
      "The system cannot find the file specified."
     ]
    },
    {
     "name": "stdout",
     "output_type": "stream",
     "text": [
      "Downloading file: https://data2.gosat.nies.go.jp/wgetdata/GU/SWIRL2CO2/2017/SWIRL2CO2_201702_V03.05.tar\n"
     ]
    },
    {
     "name": "stderr",
     "output_type": "stream",
     "text": [
      "\n"
     ]
    },
    {
     "name": "stdout",
     "output_type": "stream",
     "text": [
      "Downloading file: https://data2.gosat.nies.go.jp/wgetdata/GU/SWIRL2CO2/2017/SWIRL2CO2_201703_V03.05.tar\n"
     ]
    },
    {
     "name": "stderr",
     "output_type": "stream",
     "text": [
      "The system cannot find the file specified.\n",
      "The system cannot find the file specified.\n"
     ]
    },
    {
     "name": "stdout",
     "output_type": "stream",
     "text": [
      "Downloading file: https://data2.gosat.nies.go.jp/wgetdata/GU/SWIRL2CO2/2017/SWIRL2CO2_201704_V03.05.tar\n",
      "Downloading file: https://data2.gosat.nies.go.jp/wgetdata/GU/SWIRL2CO2/2017/SWIRL2CO2_201705_V03.05.tar\n"
     ]
    },
    {
     "name": "stderr",
     "output_type": "stream",
     "text": [
      "The system cannot find the file specified.\n"
     ]
    },
    {
     "name": "stdout",
     "output_type": "stream",
     "text": [
      "Downloading file: https://data2.gosat.nies.go.jp/wgetdata/GU/SWIRL2CO2/2017/SWIRL2CO2_201706_V03.05.tar\n"
     ]
    },
    {
     "name": "stderr",
     "output_type": "stream",
     "text": [
      "The system cannot find the file specified.\n",
      "The system cannot find the file specified.\n"
     ]
    },
    {
     "name": "stdout",
     "output_type": "stream",
     "text": [
      "Downloading file: https://data2.gosat.nies.go.jp/wgetdata/GU/SWIRL2CO2/2017/SWIRL2CO2_201707_V03.05.tar\n"
     ]
    },
    {
     "name": "stderr",
     "output_type": "stream",
     "text": [
      "The system cannot find the file specified."
     ]
    },
    {
     "name": "stdout",
     "output_type": "stream",
     "text": [
      "Downloading file: https://data2.gosat.nies.go.jp/wgetdata/GU/SWIRL2CO2/2017/SWIRL2CO2_201708_V03.05.tar\n"
     ]
    },
    {
     "name": "stderr",
     "output_type": "stream",
     "text": [
      "\n"
     ]
    },
    {
     "name": "stdout",
     "output_type": "stream",
     "text": [
      "Downloading file: https://data2.gosat.nies.go.jp/wgetdata/GU/SWIRL2CO2/2017/SWIRL2CO2_201709_V03.05.tar\n"
     ]
    },
    {
     "name": "stderr",
     "output_type": "stream",
     "text": [
      "The system cannot find the file specified.\n",
      "The system cannot find the file specified.\n"
     ]
    },
    {
     "name": "stdout",
     "output_type": "stream",
     "text": [
      "Downloading file: https://data2.gosat.nies.go.jp/wgetdata/GU/SWIRL2CO2/2017/SWIRL2CO2_201710_V03.05.tar\n"
     ]
    },
    {
     "name": "stderr",
     "output_type": "stream",
     "text": [
      "The system cannot find the file specified.\n"
     ]
    },
    {
     "name": "stdout",
     "output_type": "stream",
     "text": [
      "Downloading file: https://data2.gosat.nies.go.jp/wgetdata/GU/SWIRL2CO2/2017/SWIRL2CO2_201711_V03.05.tar\n"
     ]
    },
    {
     "name": "stderr",
     "output_type": "stream",
     "text": [
      "The system cannot find the file specified.\n"
     ]
    },
    {
     "name": "stdout",
     "output_type": "stream",
     "text": [
      "Downloading file: https://data2.gosat.nies.go.jp/wgetdata/GU/SWIRL2CO2/2017/SWIRL2CO2_201712_V03.05.tar\n"
     ]
    },
    {
     "name": "stderr",
     "output_type": "stream",
     "text": [
      "The system cannot find the file specified."
     ]
    },
    {
     "name": "stdout",
     "output_type": "stream",
     "text": [
      "Downloading file: https://data2.gosat.nies.go.jp/wgetdata/GU/SWIRL2CO2/2018/SWIRL2CO2_201801_V03.05.tar\n"
     ]
    },
    {
     "name": "stderr",
     "output_type": "stream",
     "text": [
      "\n"
     ]
    },
    {
     "name": "stdout",
     "output_type": "stream",
     "text": [
      "Downloading file: https://data2.gosat.nies.go.jp/wgetdata/GU/SWIRL2CO2/2018/SWIRL2CO2_201802_V03.05.tar\n"
     ]
    },
    {
     "name": "stderr",
     "output_type": "stream",
     "text": [
      "The system cannot find the file specified.\n"
     ]
    },
    {
     "name": "stdout",
     "output_type": "stream",
     "text": [
      "Downloading file: https://data2.gosat.nies.go.jp/wgetdata/GU/SWIRL2CO2/2018/SWIRL2CO2_201803_V03.05.tar\n"
     ]
    },
    {
     "name": "stderr",
     "output_type": "stream",
     "text": [
      "The system cannot find the file specified.\n",
      "The system cannot find the file specified."
     ]
    },
    {
     "name": "stdout",
     "output_type": "stream",
     "text": [
      "Downloading file: https://data2.gosat.nies.go.jp/wgetdata/GU/SWIRL2CO2/2018/SWIRL2CO2_201804_V03.05.tar\n"
     ]
    },
    {
     "name": "stderr",
     "output_type": "stream",
     "text": [
      "\n",
      "The system cannot find the file specified.\n"
     ]
    },
    {
     "name": "stdout",
     "output_type": "stream",
     "text": [
      "Downloading file: https://data2.gosat.nies.go.jp/wgetdata/GU/SWIRL2CO2/2018/SWIRL2CO2_201805_V03.05.tar\n",
      "Downloading file: https://data2.gosat.nies.go.jp/wgetdata/GU/SWIRL2CO2/2018/SWIRL2CO2_201806_V03.05.tar\n"
     ]
    },
    {
     "name": "stderr",
     "output_type": "stream",
     "text": [
      "The system cannot find the file specified.\n"
     ]
    },
    {
     "name": "stdout",
     "output_type": "stream",
     "text": [
      "Downloading file: https://data2.gosat.nies.go.jp/wgetdata/GU/SWIRL2CO2/2018/SWIRL2CO2_201807_V03.05.tar\n"
     ]
    },
    {
     "name": "stderr",
     "output_type": "stream",
     "text": [
      "The system cannot find the file specified.\n",
      "The system cannot find the file specified.\n"
     ]
    },
    {
     "name": "stdout",
     "output_type": "stream",
     "text": [
      "Downloading file: https://data2.gosat.nies.go.jp/wgetdata/GU/SWIRL2CO2/2018/SWIRL2CO2_201808_V03.05.tar\n",
      "Downloading file: https://data2.gosat.nies.go.jp/wgetdata/GU/SWIRL2CO2/2018/SWIRL2CO2_201809_V03.05.tar\n"
     ]
    },
    {
     "name": "stderr",
     "output_type": "stream",
     "text": [
      "The system cannot find the file specified.\n"
     ]
    },
    {
     "name": "stdout",
     "output_type": "stream",
     "text": [
      "Downloading file: https://data2.gosat.nies.go.jp/wgetdata/GU/SWIRL2CO2/2018/SWIRL2CO2_201810_V03.05.tar\n"
     ]
    },
    {
     "name": "stderr",
     "output_type": "stream",
     "text": [
      "The system cannot find the file specified.\n",
      "The system cannot find the file specified."
     ]
    },
    {
     "name": "stdout",
     "output_type": "stream",
     "text": [
      "Downloading file: https://data2.gosat.nies.go.jp/wgetdata/GU/SWIRL2CO2/2018/SWIRL2CO2_201811_V03.05.tar\n"
     ]
    },
    {
     "name": "stderr",
     "output_type": "stream",
     "text": [
      "\n"
     ]
    },
    {
     "name": "stdout",
     "output_type": "stream",
     "text": [
      "Downloading file: https://data2.gosat.nies.go.jp/wgetdata/GU/SWIRL2CO2/2018/SWIRL2CO2_201812_V03.05.tar\n"
     ]
    },
    {
     "name": "stderr",
     "output_type": "stream",
     "text": [
      "The system cannot find the file specified.\n"
     ]
    },
    {
     "name": "stdout",
     "output_type": "stream",
     "text": [
      "Downloading file: https://data2.gosat.nies.go.jp/wgetdata/GU/SWIRL2CO2/2019/SWIRL2CO2_201901_V03.05.tar\n"
     ]
    },
    {
     "name": "stderr",
     "output_type": "stream",
     "text": [
      "The system cannot find the file specified.\n"
     ]
    },
    {
     "name": "stdout",
     "output_type": "stream",
     "text": [
      "Downloading file: https://data2.gosat.nies.go.jp/wgetdata/GU/SWIRL2CO2/2019/SWIRL2CO2_201902_V03.05.tar\n"
     ]
    },
    {
     "name": "stderr",
     "output_type": "stream",
     "text": [
      "The system cannot find the file specified.\n"
     ]
    },
    {
     "name": "stdout",
     "output_type": "stream",
     "text": [
      "Downloading file: https://data2.gosat.nies.go.jp/wgetdata/GU/SWIRL2CO2/2019/SWIRL2CO2_201903_V03.05.tar\n"
     ]
    },
    {
     "name": "stderr",
     "output_type": "stream",
     "text": [
      "The system cannot find the file specified.\n"
     ]
    },
    {
     "name": "stdout",
     "output_type": "stream",
     "text": [
      "Downloading file: https://data2.gosat.nies.go.jp/wgetdata/GU/SWIRL2CO2/2019/SWIRL2CO2_201904_V03.05.tar\n"
     ]
    },
    {
     "name": "stderr",
     "output_type": "stream",
     "text": [
      "The system cannot find the file specified.\n",
      "The system cannot find the file specified.\n"
     ]
    },
    {
     "name": "stdout",
     "output_type": "stream",
     "text": [
      "Downloading file: https://data2.gosat.nies.go.jp/wgetdata/GU/SWIRL2CO2/2019/SWIRL2CO2_201905_V03.05.tar\n"
     ]
    },
    {
     "name": "stderr",
     "output_type": "stream",
     "text": [
      "The system cannot find the file specified."
     ]
    },
    {
     "name": "stdout",
     "output_type": "stream",
     "text": [
      "Downloading file: https://data2.gosat.nies.go.jp/wgetdata/GU/SWIRL2CO2/2019/SWIRL2CO2_201906_V03.05.tar\n"
     ]
    },
    {
     "name": "stderr",
     "output_type": "stream",
     "text": [
      "\n",
      "The system cannot find the file specified.\n"
     ]
    },
    {
     "name": "stdout",
     "output_type": "stream",
     "text": [
      "Downloading file: https://data2.gosat.nies.go.jp/wgetdata/GU/SWIRL2CO2/2019/SWIRL2CO2_201907_V03.05.tar\n"
     ]
    },
    {
     "name": "stderr",
     "output_type": "stream",
     "text": [
      "The system cannot find the file specified.\n"
     ]
    },
    {
     "name": "stdout",
     "output_type": "stream",
     "text": [
      "Downloading file: https://data2.gosat.nies.go.jp/wgetdata/GU/SWIRL2CO2/2019/SWIRL2CO2_201908_V03.05.tar\n"
     ]
    },
    {
     "name": "stderr",
     "output_type": "stream",
     "text": [
      "The system cannot find the file specified."
     ]
    },
    {
     "name": "stdout",
     "output_type": "stream",
     "text": [
      "Downloading file: https://data2.gosat.nies.go.jp/wgetdata/GU/SWIRL2CO2/2019/SWIRL2CO2_201909_V03.05.tar\n"
     ]
    },
    {
     "name": "stderr",
     "output_type": "stream",
     "text": [
      "\n"
     ]
    },
    {
     "name": "stdout",
     "output_type": "stream",
     "text": [
      "Downloading file: https://data2.gosat.nies.go.jp/wgetdata/GU/SWIRL2CO2/2019/SWIRL2CO2_201910_V03.05.tar\n"
     ]
    },
    {
     "name": "stderr",
     "output_type": "stream",
     "text": [
      "The system cannot find the file specified.\n",
      "The system cannot find the file specified."
     ]
    },
    {
     "name": "stdout",
     "output_type": "stream",
     "text": [
      "Downloading file: https://data2.gosat.nies.go.jp/wgetdata/GU/SWIRL2CO2/2019/SWIRL2CO2_201911_V03.05.tar\n"
     ]
    },
    {
     "name": "stderr",
     "output_type": "stream",
     "text": [
      "\n",
      "The system cannot find the file specified."
     ]
    },
    {
     "name": "stdout",
     "output_type": "stream",
     "text": [
      "Downloading file: https://data2.gosat.nies.go.jp/wgetdata/GU/SWIRL2CO2/2019/SWIRL2CO2_201912_V03.05.tar\n"
     ]
    },
    {
     "name": "stderr",
     "output_type": "stream",
     "text": [
      "\n"
     ]
    },
    {
     "name": "stdout",
     "output_type": "stream",
     "text": [
      "Downloading file: https://data2.gosat.nies.go.jp/wgetdata/GU/SWIRL2CO2/2020/SWIRL2CO2_202001_V03.05.tar\n"
     ]
    },
    {
     "name": "stderr",
     "output_type": "stream",
     "text": [
      "The system cannot find the file specified.\n",
      "The system cannot find the file specified."
     ]
    },
    {
     "name": "stdout",
     "output_type": "stream",
     "text": [
      "Downloading file: https://data2.gosat.nies.go.jp/wgetdata/GU/SWIRL2CO2/2020/SWIRL2CO2_202002_V03.05.tar\n"
     ]
    },
    {
     "name": "stderr",
     "output_type": "stream",
     "text": [
      "\n",
      "The system cannot find the file specified.\n"
     ]
    },
    {
     "name": "stdout",
     "output_type": "stream",
     "text": [
      "Downloading file: https://data2.gosat.nies.go.jp/wgetdata/GU/SWIRL2CO2/2020/SWIRL2CO2_202003_V03.05.tar\n"
     ]
    },
    {
     "name": "stderr",
     "output_type": "stream",
     "text": [
      "The system cannot find the file specified.\n"
     ]
    },
    {
     "name": "stdout",
     "output_type": "stream",
     "text": [
      "Downloading file: https://data2.gosat.nies.go.jp/wgetdata/GU/SWIRL2CO2/2020/SWIRL2CO2_202004_V03.05.tar\n",
      "Downloading file: https://data2.gosat.nies.go.jp/wgetdata/GU/SWIRL2CO2/2020/SWIRL2CO2_202005_V03.05.tar\n"
     ]
    },
    {
     "name": "stderr",
     "output_type": "stream",
     "text": [
      "The system cannot find the file specified.\n"
     ]
    },
    {
     "name": "stdout",
     "output_type": "stream",
     "text": [
      "Downloading file: https://data2.gosat.nies.go.jp/wgetdata/GU/SWIRL2CO2/2020/SWIRL2CO2_202006_V03.05.tar\n"
     ]
    },
    {
     "name": "stderr",
     "output_type": "stream",
     "text": [
      "The system cannot find the file specified.\n",
      "The system cannot find the file specified.\n"
     ]
    },
    {
     "name": "stdout",
     "output_type": "stream",
     "text": [
      "Downloading file: https://data2.gosat.nies.go.jp/wgetdata/GU/SWIRL2CO2/2020/SWIRL2CO2_202007_V03.05.tar\n"
     ]
    },
    {
     "name": "stderr",
     "output_type": "stream",
     "text": [
      "The system cannot find the file specified.\n"
     ]
    },
    {
     "name": "stdout",
     "output_type": "stream",
     "text": [
      "Downloading file: https://data2.gosat.nies.go.jp/wgetdata/GU/SWIRL2CO2/2020/SWIRL2CO2_202008_V03.05.tar\n"
     ]
    },
    {
     "name": "stderr",
     "output_type": "stream",
     "text": [
      "The system cannot find the file specified.\n"
     ]
    },
    {
     "name": "stdout",
     "output_type": "stream",
     "text": [
      "Downloading file: https://data2.gosat.nies.go.jp/wgetdata/GU/SWIRL2CO2/2020/SWIRL2CO2_202009_V03.05.tar\n",
      "Downloading file: https://data2.gosat.nies.go.jp/wgetdata/GU/SWIRL2CO2/2020/SWIRL2CO2_202010_V03.05.tar\n"
     ]
    },
    {
     "name": "stderr",
     "output_type": "stream",
     "text": [
      "The system cannot find the file specified.\n",
      "The system cannot find the file specified."
     ]
    },
    {
     "name": "stdout",
     "output_type": "stream",
     "text": [
      "Downloading file: https://data2.gosat.nies.go.jp/wgetdata/GU/SWIRL2CO2/2020/SWIRL2CO2_202011_V03.05.tar\n"
     ]
    },
    {
     "name": "stderr",
     "output_type": "stream",
     "text": [
      "\n",
      "The system cannot find the file specified.\n"
     ]
    },
    {
     "name": "stdout",
     "output_type": "stream",
     "text": [
      "Downloading file: https://data2.gosat.nies.go.jp/wgetdata/GU/SWIRL2CO2/2020/SWIRL2CO2_202012_V03.05.tar\n"
     ]
    },
    {
     "name": "stderr",
     "output_type": "stream",
     "text": [
      "The system cannot find the file specified.\n"
     ]
    },
    {
     "name": "stdout",
     "output_type": "stream",
     "text": [
      "Downloading file: https://data2.gosat.nies.go.jp/wgetdata/GU/SWIRL2CO2/2021/SWIRL2CO2_202101_V03.05.tar\n"
     ]
    },
    {
     "name": "stderr",
     "output_type": "stream",
     "text": [
      "The system cannot find the file specified.\n"
     ]
    },
    {
     "name": "stdout",
     "output_type": "stream",
     "text": [
      "Downloading file: https://data2.gosat.nies.go.jp/wgetdata/GU/SWIRL2CO2/2021/SWIRL2CO2_202102_V03.05.tar\n",
      "Downloading file: https://data2.gosat.nies.go.jp/wgetdata/GU/SWIRL2CO2/2021/SWIRL2CO2_202103_V03.05.tar\n"
     ]
    },
    {
     "name": "stderr",
     "output_type": "stream",
     "text": [
      "The system cannot find the file specified.\n"
     ]
    },
    {
     "name": "stdout",
     "output_type": "stream",
     "text": [
      "Downloading file: https://data2.gosat.nies.go.jp/wgetdata/GU/SWIRL2CO2/2021/SWIRL2CO2_202104_V03.05.tar\n"
     ]
    },
    {
     "name": "stderr",
     "output_type": "stream",
     "text": [
      "The system cannot find the file specified.\n",
      "The system cannot find the file specified.\n"
     ]
    },
    {
     "name": "stdout",
     "output_type": "stream",
     "text": [
      "Downloading file: https://data2.gosat.nies.go.jp/wgetdata/GU/SWIRL2CO2/2021/SWIRL2CO2_202105_V03.05.tar\n"
     ]
    },
    {
     "name": "stderr",
     "output_type": "stream",
     "text": [
      "The system cannot find the file specified.\n"
     ]
    },
    {
     "name": "stdout",
     "output_type": "stream",
     "text": [
      "Downloading file: https://data2.gosat.nies.go.jp/wgetdata/GU/SWIRL2CO2/2021/SWIRL2CO2_202106_V03.05.tar\n"
     ]
    },
    {
     "name": "stderr",
     "output_type": "stream",
     "text": [
      "The system cannot find the file specified.\n"
     ]
    },
    {
     "name": "stdout",
     "output_type": "stream",
     "text": [
      "Downloading file: https://data2.gosat.nies.go.jp/wgetdata/GU/SWIRL2CO2/2021/SWIRL2CO2_202107_V03.05.tar\n"
     ]
    },
    {
     "name": "stderr",
     "output_type": "stream",
     "text": [
      "The system cannot find the file specified.\n"
     ]
    },
    {
     "name": "stdout",
     "output_type": "stream",
     "text": [
      "Downloading file: https://data2.gosat.nies.go.jp/wgetdata/GU/SWIRL2CO2/2021/SWIRL2CO2_202108_V03.05.tar\n"
     ]
    },
    {
     "name": "stderr",
     "output_type": "stream",
     "text": [
      "The system cannot find the file specified.\n"
     ]
    },
    {
     "name": "stdout",
     "output_type": "stream",
     "text": [
      "Downloading file: https://data2.gosat.nies.go.jp/wgetdata/GU/SWIRL2CO2/2021/SWIRL2CO2_202109_V03.05.tar\n",
      "Downloading file: https://data2.gosat.nies.go.jp/wgetdata/GU/SWIRL2CO2/2021/SWIRL2CO2_202110_V03.05.tar\n"
     ]
    },
    {
     "name": "stderr",
     "output_type": "stream",
     "text": [
      "The system cannot find the file specified.\n"
     ]
    },
    {
     "name": "stdout",
     "output_type": "stream",
     "text": [
      "Downloading file: https://data2.gosat.nies.go.jp/wgetdata/GU/SWIRL2CO2/2021/SWIRL2CO2_202111_V03.05.tar\n"
     ]
    },
    {
     "name": "stderr",
     "output_type": "stream",
     "text": [
      "The system cannot find the file specified.\n"
     ]
    },
    {
     "name": "stdout",
     "output_type": "stream",
     "text": [
      "Downloading file: https://data2.gosat.nies.go.jp/wgetdata/GU/SWIRL2CO2/2021/SWIRL2CO2_202112_V03.05.tar\n"
     ]
    },
    {
     "name": "stderr",
     "output_type": "stream",
     "text": [
      "The system cannot find the file specified.\n"
     ]
    },
    {
     "name": "stdout",
     "output_type": "stream",
     "text": [
      "Downloading file: https://data2.gosat.nies.go.jp/wgetdata/GU/SWIRL2CO2/2022/SWIRL2CO2_202201_V03.05.tar\n"
     ]
    },
    {
     "name": "stderr",
     "output_type": "stream",
     "text": [
      "The system cannot find the file specified.\n"
     ]
    },
    {
     "name": "stdout",
     "output_type": "stream",
     "text": [
      "Downloading file: https://data2.gosat.nies.go.jp/wgetdata/GU/SWIRL2CO2/2022/SWIRL2CO2_202202_V03.05.tar\n"
     ]
    },
    {
     "name": "stderr",
     "output_type": "stream",
     "text": [
      "The system cannot find the file specified.\n",
      "The system cannot find the file specified."
     ]
    },
    {
     "name": "stdout",
     "output_type": "stream",
     "text": [
      "Downloading file: https://data2.gosat.nies.go.jp/wgetdata/GU/SWIRL2CO2/2022/SWIRL2CO2_202203_V03.05.tar\n"
     ]
    },
    {
     "name": "stderr",
     "output_type": "stream",
     "text": [
      "\n",
      "The system cannot find the file specified.\n"
     ]
    },
    {
     "name": "stdout",
     "output_type": "stream",
     "text": [
      "Downloading file: https://data2.gosat.nies.go.jp/wgetdata/GU/SWIRL2CO2/2022/SWIRL2CO2_202204_V03.05.tar\n",
      "Downloading file: https://data2.gosat.nies.go.jp/wgetdata/GU/SWIRL2CO2/2022/SWIRL2CO2_202205_V03.05.tar\n"
     ]
    },
    {
     "name": "stderr",
     "output_type": "stream",
     "text": [
      "The system cannot find the file specified.\n",
      "The system cannot find the file specified."
     ]
    },
    {
     "name": "stdout",
     "output_type": "stream",
     "text": [
      "Downloading file: https://data2.gosat.nies.go.jp/wgetdata/GU/SWIRL2CO2/2022/SWIRL2CO2_202206_V03.05.tar\n"
     ]
    },
    {
     "name": "stderr",
     "output_type": "stream",
     "text": [
      "\n"
     ]
    },
    {
     "name": "stdout",
     "output_type": "stream",
     "text": [
      "Downloading file: https://data2.gosat.nies.go.jp/wgetdata/GU/SWIRL2CO2/2022/SWIRL2CO2_202207_V03.05.tar\n"
     ]
    },
    {
     "name": "stderr",
     "output_type": "stream",
     "text": [
      "The system cannot find the file specified.\n"
     ]
    },
    {
     "name": "stdout",
     "output_type": "stream",
     "text": [
      "Downloading file: https://data2.gosat.nies.go.jp/wgetdata/GU/SWIRL2CO2/2022/SWIRL2CO2_202208_V03.05.tar\n"
     ]
    },
    {
     "name": "stderr",
     "output_type": "stream",
     "text": [
      "The system cannot find the file specified.\n",
      "The system cannot find the file specified."
     ]
    },
    {
     "name": "stdout",
     "output_type": "stream",
     "text": [
      "Downloading file: https://data2.gosat.nies.go.jp/wgetdata/GU/SWIRL2CO2/2022/SWIRL2CO2_202209_V03.05.tar\n"
     ]
    },
    {
     "name": "stderr",
     "output_type": "stream",
     "text": [
      "\n",
      "The system cannot find the file specified."
     ]
    },
    {
     "name": "stdout",
     "output_type": "stream",
     "text": [
      "Downloading file: https://data2.gosat.nies.go.jp/wgetdata/GU/SWIRL2CO2/2022/SWIRL2CO2_202210_V03.05.tar\n"
     ]
    },
    {
     "name": "stderr",
     "output_type": "stream",
     "text": [
      "\n",
      "The system cannot find the file specified."
     ]
    },
    {
     "name": "stdout",
     "output_type": "stream",
     "text": [
      "Downloading file: https://data2.gosat.nies.go.jp/wgetdata/GU/SWIRL2CO2/2022/SWIRL2CO2_202211_V03.05.tar\n"
     ]
    },
    {
     "name": "stderr",
     "output_type": "stream",
     "text": [
      "\n",
      "The system cannot find the file specified.\n"
     ]
    },
    {
     "name": "stdout",
     "output_type": "stream",
     "text": [
      "Downloading file: https://data2.gosat.nies.go.jp/wgetdata/GU/SWIRL2CO2/2022/SWIRL2CO2_202212_V03.05.tar\n"
     ]
    },
    {
     "name": "stderr",
     "output_type": "stream",
     "text": [
      "The system cannot find the file specified.\n"
     ]
    },
    {
     "name": "stdout",
     "output_type": "stream",
     "text": [
      "Downloading file: https://data2.gosat.nies.go.jp/wgetdata/GU/SWIRL2CO2/2023/SWIRL2CO2_202301_V03.05.tar\n"
     ]
    },
    {
     "name": "stderr",
     "output_type": "stream",
     "text": [
      "The system cannot find the file specified."
     ]
    },
    {
     "name": "stdout",
     "output_type": "stream",
     "text": [
      "Downloading file: https://data2.gosat.nies.go.jp/wgetdata/GU/SWIRL2CO2/2023/SWIRL2CO2_202302_V03.05.tar\n"
     ]
    },
    {
     "name": "stderr",
     "output_type": "stream",
     "text": [
      "\n"
     ]
    },
    {
     "name": "stdout",
     "output_type": "stream",
     "text": [
      "Downloading file: https://data2.gosat.nies.go.jp/wgetdata/GU/SWIRL2CO2/2023/SWIRL2CO2_202303_V03.05.tar\n"
     ]
    },
    {
     "name": "stderr",
     "output_type": "stream",
     "text": [
      "The system cannot find the file specified.\n",
      "The system cannot find the file specified.\n"
     ]
    },
    {
     "name": "stdout",
     "output_type": "stream",
     "text": [
      "Downloading file: https://data2.gosat.nies.go.jp/wgetdata/GU/SWIRL2CO2/2023/SWIRL2CO2_202304_V03.05.tar\n",
      "Downloading file: https://data2.gosat.nies.go.jp/wgetdata/GU/SWIRL2CO2/2023/SWIRL2CO2_202305_V03.05.tar\n"
     ]
    },
    {
     "name": "stderr",
     "output_type": "stream",
     "text": [
      "The system cannot find the file specified.\n",
      "The system cannot find the file specified."
     ]
    },
    {
     "name": "stdout",
     "output_type": "stream",
     "text": [
      "Downloading file: https://data2.gosat.nies.go.jp/wgetdata/GU/SWIRL2CO2/2023/SWIRL2CO2_202306_V03.05.tar\n"
     ]
    },
    {
     "name": "stderr",
     "output_type": "stream",
     "text": [
      "\n",
      "The system cannot find the file specified.\n"
     ]
    },
    {
     "name": "stdout",
     "output_type": "stream",
     "text": [
      "Downloading file: https://data2.gosat.nies.go.jp/wgetdata/GU/SWIRL2CO2/2023/SWIRL2CO2_202307_V03.05.tar\n",
      "Downloading file: https://data2.gosat.nies.go.jp/wgetdata/GU/SWIRL2CO2/2023/SWIRL2CO2_202308_V03.05.tar\n"
     ]
    },
    {
     "name": "stderr",
     "output_type": "stream",
     "text": [
      "The system cannot find the file specified.\n",
      "The system cannot find the file specified.\n"
     ]
    },
    {
     "name": "stdout",
     "output_type": "stream",
     "text": [
      "Downloading file: https://data2.gosat.nies.go.jp/wgetdata/GU/SWIRL2CO2/2023/SWIRL2CO2_202309_V03.05.tar\n"
     ]
    },
    {
     "name": "stderr",
     "output_type": "stream",
     "text": [
      "The system cannot find the file specified.\n"
     ]
    },
    {
     "name": "stdout",
     "output_type": "stream",
     "text": [
      "Downloading file: https://data2.gosat.nies.go.jp/wgetdata/GU/SWIRL2CO2/2023/SWIRL2CO2_202310_V03.05.tar\n"
     ]
    },
    {
     "name": "stderr",
     "output_type": "stream",
     "text": [
      "The system cannot find the file specified."
     ]
    },
    {
     "name": "stdout",
     "output_type": "stream",
     "text": [
      "Downloading file: https://data2.gosat.nies.go.jp/wgetdata/GU/SWIRL2CO2/2023/SWIRL2CO2_202311_V03.05.tar\n"
     ]
    },
    {
     "name": "stderr",
     "output_type": "stream",
     "text": [
      "\n"
     ]
    },
    {
     "name": "stdout",
     "output_type": "stream",
     "text": [
      "Downloading file: https://data2.gosat.nies.go.jp/wgetdata/GU/SWIRL2CO2/2023/SWIRL2CO2_202312_V03.05.tar\n"
     ]
    },
    {
     "name": "stderr",
     "output_type": "stream",
     "text": [
      "The system cannot find the file specified.\n",
      "The system cannot find the file specified.\n"
     ]
    },
    {
     "name": "stdout",
     "output_type": "stream",
     "text": [
      "Downloading file: https://data2.gosat.nies.go.jp/wgetdata/GU/SWIRL2CO2/2024/SWIRL2CO2_202401_V03.05.tar\n"
     ]
    },
    {
     "name": "stderr",
     "output_type": "stream",
     "text": [
      "The system cannot find the file specified.\n"
     ]
    },
    {
     "name": "stdout",
     "output_type": "stream",
     "text": [
      "Downloading file: https://data2.gosat.nies.go.jp/wgetdata/GU/SWIRL2CO2/2024/SWIRL2CO2_202402_V03.05.tar\n",
      "Downloading file: https://data2.gosat.nies.go.jp/wgetdata/GU/SWIRL2CO2/2024/SWIRL2CO2_202403_V03.05.tar\n"
     ]
    },
    {
     "name": "stderr",
     "output_type": "stream",
     "text": [
      "The system cannot find the file specified.\n"
     ]
    },
    {
     "name": "stdout",
     "output_type": "stream",
     "text": [
      "Downloading file: https://data2.gosat.nies.go.jp/wgetdata/GU/SWIRL2CO2/2024/SWIRL2CO2_202404_V03.05.tar\n"
     ]
    },
    {
     "name": "stderr",
     "output_type": "stream",
     "text": [
      "The system cannot find the file specified.\n"
     ]
    },
    {
     "name": "stdout",
     "output_type": "stream",
     "text": [
      "Downloading file: https://data2.gosat.nies.go.jp/wgetdata/GU/SWIRL2CO2/2024/SWIRL2CO2_202405_V03.05.tar\n"
     ]
    },
    {
     "name": "stderr",
     "output_type": "stream",
     "text": [
      "The system cannot find the file specified.\n",
      "The system cannot find the file specified.\n"
     ]
    },
    {
     "name": "stdout",
     "output_type": "stream",
     "text": [
      "Downloading file: https://data2.gosat.nies.go.jp/wgetdata/GU/SWIRL2CO2/2024/SWIRL2CO2_202406_V03.05.tar\n"
     ]
    },
    {
     "name": "stderr",
     "output_type": "stream",
     "text": [
      "The system cannot find the file specified.\n"
     ]
    },
    {
     "name": "stdout",
     "output_type": "stream",
     "text": [
      "Downloading file: https://data2.gosat.nies.go.jp/wgetdata/GU/SWIRL2CO2/2024/SWIRL2CO2_202407_V03.05.tar\n",
      "Downloading file: https://data2.gosat.nies.go.jp/wgetdata/GU/SWIRL2CO2/2024/SWIRL2CO2_202408_V03.05.tar\n"
     ]
    },
    {
     "name": "stderr",
     "output_type": "stream",
     "text": [
      "The system cannot find the file specified.\n"
     ]
    },
    {
     "name": "stdout",
     "output_type": "stream",
     "text": [
      "Downloading file: https://data2.gosat.nies.go.jp/wgetdata/GU/SWIRL2CO2/2024/SWIRL2CO2_202409_V03.05.tar\n"
     ]
    },
    {
     "name": "stderr",
     "output_type": "stream",
     "text": [
      "The system cannot find the file specified.\n",
      "The system cannot find the file specified.\n"
     ]
    },
    {
     "name": "stdout",
     "output_type": "stream",
     "text": [
      "Downloading file: https://data2.gosat.nies.go.jp/wgetdata/GU/SWIRL2CO2/2024/SWIRL2CO2_202410_V03.05.tar\n"
     ]
    },
    {
     "name": "stderr",
     "output_type": "stream",
     "text": [
      "The system cannot find the file specified.\n"
     ]
    },
    {
     "name": "stdout",
     "output_type": "stream",
     "text": [
      "Downloading file: https://data2.gosat.nies.go.jp/wgetdata/GU/SWIRL2CO2/2024/SWIRL2CO2_202411_V03.05.tar\n"
     ]
    },
    {
     "name": "stderr",
     "output_type": "stream",
     "text": [
      "The system cannot find the file specified.\n"
     ]
    },
    {
     "name": "stdout",
     "output_type": "stream",
     "text": [
      "Downloading file: https://data2.gosat.nies.go.jp/wgetdata/GU/SWIRL2CO2/2024/SWIRL2CO2_202412_V03.05.tar\n"
     ]
    },
    {
     "name": "stderr",
     "output_type": "stream",
     "text": [
      "The system cannot find the file specified."
     ]
    },
    {
     "name": "stdout",
     "output_type": "stream",
     "text": [
      "Downloading file: https://data2.gosat.nies.go.jp/wgetdata/GU/SWIRL2CO2/2025/SWIRL2CO2_202501_V03.05.tar\n"
     ]
    },
    {
     "name": "stderr",
     "output_type": "stream",
     "text": [
      "\n"
     ]
    },
    {
     "name": "stdout",
     "output_type": "stream",
     "text": [
      "Downloading file: https://data2.gosat.nies.go.jp/wgetdata/GU/SWIRL2CO2/2025/SWIRL2CO2_202502_V03.05.tar\n"
     ]
    },
    {
     "name": "stderr",
     "output_type": "stream",
     "text": [
      "The system cannot find the file specified.\n",
      "The system cannot find the file specified.\n"
     ]
    },
    {
     "name": "stdout",
     "output_type": "stream",
     "text": [
      "Downloading file: https://data2.gosat.nies.go.jp/wgetdata/GU/SWIRL2CO2/2025/SWIRL2CO2_202503_V03.05.tar\n"
     ]
    },
    {
     "name": "stderr",
     "output_type": "stream",
     "text": [
      "The system cannot find the file specified.\n"
     ]
    }
   ],
   "source": [
    "download_files(data_file, username, password, to_folder)"
   ]
  }
 ],
 "metadata": {
  "kernelspec": {
   "display_name": "base",
   "language": "python",
   "name": "python3"
  },
  "language_info": {
   "codemirror_mode": {
    "name": "ipython",
    "version": 3
   },
   "file_extension": ".py",
   "mimetype": "text/x-python",
   "name": "python",
   "nbconvert_exporter": "python",
   "pygments_lexer": "ipython3",
   "version": "3.12.3"
  }
 },
 "nbformat": 4,
 "nbformat_minor": 5
}
